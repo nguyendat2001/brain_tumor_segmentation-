{
 "cells": [
  {
   "cell_type": "code",
   "execution_count": 1,
   "metadata": {
    "_cell_guid": "79c7e3d0-c299-4dcb-8224-4455121ee9b0",
    "_uuid": "d629ff2d2480ee46fbb7e2d37f6b5fab8052498a",
    "execution": {
     "iopub.execute_input": "2023-01-31T02:25:43.609600Z",
     "iopub.status.busy": "2023-01-31T02:25:43.608794Z",
     "iopub.status.idle": "2023-01-31T02:25:49.838702Z",
     "shell.execute_reply": "2023-01-31T02:25:49.837413Z",
     "shell.execute_reply.started": "2023-01-31T02:25:43.609495Z"
    },
    "executionInfo": {
     "elapsed": 4058,
     "status": "ok",
     "timestamp": 1651827452808,
     "user": {
      "displayName": "Quang 9 Doan",
      "userId": "16992828409336388600"
     },
     "user_tz": -420
    },
    "id": "tT0u028FMbnR"
   },
   "outputs": [
    {
     "name": "stderr",
     "output_type": "stream",
     "text": [
      "C:\\Users\\ASUS\\AppData\\Local\\Programs\\Python\\Python310\\lib\\site-packages\\numpy\\_distributor_init.py:30: UserWarning: loaded more than 1 DLL from .libs:\n",
      "C:\\Users\\ASUS\\AppData\\Local\\Programs\\Python\\Python310\\lib\\site-packages\\numpy\\.libs\\libopenblas.EL2C6PLE4ZYW3ECEVIV3OXXGRN2NRFM2.gfortran-win_amd64.dll\n",
      "C:\\Users\\ASUS\\AppData\\Local\\Programs\\Python\\Python310\\lib\\site-packages\\numpy\\.libs\\libopenblas.FB5AE2TYXYH2IJRDKGDGQ3XBKLKTF43H.gfortran-win_amd64.dll\n",
      "  warnings.warn(\"loaded more than 1 DLL from .libs:\"\n"
     ]
    }
   ],
   "source": [
    "import os\n",
    "import random\n",
    "import pandas as pd\n",
    "import numpy as np\n",
    "import matplotlib.pyplot as plt\n",
    "plt.style.use(\"ggplot\")\n",
    "%matplotlib inline\n",
    "\n",
    "import cv2\n",
    "from tqdm import tqdm_notebook, tnrange\n",
    "from glob import glob\n",
    "from itertools import chain\n",
    "from skimage.io import imread, imshow, concatenate_images\n",
    "from skimage.transform import resize\n",
    "from skimage.morphology import label\n",
    "from sklearn.model_selection import train_test_split\n",
    "\n",
    "import tensorflow as tf\n",
    "from skimage.color import rgb2gray\n",
    "from tensorflow.keras import Input\n",
    "from tensorflow.keras.models import Model, load_model, save_model\n",
    "from tensorflow.keras.layers import Input, Activation, BatchNormalization, Dropout, Lambda, Conv2D, Conv2DTranspose, MaxPooling2D, concatenate\n",
    "from tensorflow.keras.optimizers import Adam\n",
    "from tensorflow.keras.callbacks import *\n",
    "\n",
    "from tensorflow.keras import backend as K\n",
    "from tensorflow.keras.preprocessing.image import ImageDataGenerator\n",
    "from tensorflow.keras.callbacks import EarlyStopping, ModelCheckpoint\n",
    "\n",
    "from tensorflow.keras import models, layers, regularizers"
   ]
  },
  {
   "cell_type": "code",
   "execution_count": 2,
   "metadata": {
    "execution": {
     "iopub.execute_input": "2023-01-30T01:50:24.956750Z",
     "iopub.status.busy": "2023-01-30T01:50:24.956496Z",
     "iopub.status.idle": "2023-01-30T01:50:25.978538Z",
     "shell.execute_reply": "2023-01-30T01:50:25.977704Z",
     "shell.execute_reply.started": "2023-01-30T01:50:24.956717Z"
    }
   },
   "outputs": [
    {
     "name": "stdout",
     "output_type": "stream",
     "text": [
      "Mon Jan 30 01:50:25 2023       \n",
      "+-----------------------------------------------------------------------------+\n",
      "| NVIDIA-SMI 470.82.01    Driver Version: 470.82.01    CUDA Version: 11.4     |\n",
      "|-------------------------------+----------------------+----------------------+\n",
      "| GPU  Name        Persistence-M| Bus-Id        Disp.A | Volatile Uncorr. ECC |\n",
      "| Fan  Temp  Perf  Pwr:Usage/Cap|         Memory-Usage | GPU-Util  Compute M. |\n",
      "|                               |                      |               MIG M. |\n",
      "|===============================+======================+======================|\n",
      "|   0  Tesla P100-PCIE...  Off  | 00000000:00:04.0 Off |                    0 |\n",
      "| N/A   38C    P0    28W / 250W |      0MiB / 16280MiB |      0%      Default |\n",
      "|                               |                      |                  N/A |\n",
      "+-------------------------------+----------------------+----------------------+\n",
      "                                                                               \n",
      "+-----------------------------------------------------------------------------+\n",
      "| Processes:                                                                  |\n",
      "|  GPU   GI   CI        PID   Type   Process name                  GPU Memory |\n",
      "|        ID   ID                                                   Usage      |\n",
      "|=============================================================================|\n",
      "|  No running processes found                                                 |\n",
      "+-----------------------------------------------------------------------------+\n"
     ]
    }
   ],
   "source": [
    "!nvidia-smi "
   ]
  },
  {
   "cell_type": "code",
   "execution_count": 3,
   "metadata": {
    "execution": {
     "iopub.execute_input": "2023-01-30T01:50:25.981184Z",
     "iopub.status.busy": "2023-01-30T01:50:25.980518Z",
     "iopub.status.idle": "2023-01-30T01:50:25.985209Z",
     "shell.execute_reply": "2023-01-30T01:50:25.984498Z",
     "shell.execute_reply.started": "2023-01-30T01:50:25.981143Z"
    },
    "executionInfo": {
     "elapsed": 30,
     "status": "aborted",
     "timestamp": 1651827096904,
     "user": {
      "displayName": "Quang 9 Doan",
      "userId": "16992828409336388600"
     },
     "user_tz": -420
    },
    "id": "zRbDbdruSxBS"
   },
   "outputs": [],
   "source": [
    "# tf.compat.v1.disable_v2_behavior()\n",
    "# tf.compat.v1.disable_eager_execution()"
   ]
  },
  {
   "cell_type": "code",
   "execution_count": 2,
   "metadata": {
    "execution": {
     "iopub.execute_input": "2023-01-31T02:25:49.843577Z",
     "iopub.status.busy": "2023-01-31T02:25:49.843304Z",
     "iopub.status.idle": "2023-01-31T02:25:49.860276Z",
     "shell.execute_reply": "2023-01-31T02:25:49.859589Z",
     "shell.execute_reply.started": "2023-01-31T02:25:49.843541Z"
    },
    "executionInfo": {
     "elapsed": 434,
     "status": "ok",
     "timestamp": 1651827457487,
     "user": {
      "displayName": "Quang 9 Doan",
      "userId": "16992828409336388600"
     },
     "user_tz": -420
    },
    "id": "r0EEfrLfMbnU"
   },
   "outputs": [],
   "source": [
    "#Set Parameters\n",
    "im_width = 256\n",
    "im_height = 256\n"
   ]
  },
  {
   "cell_type": "markdown",
   "metadata": {
    "id": "FZVsrJ8EMbnU"
   },
   "source": [
    "# **Load image's path and mask's path**"
   ]
  },
  {
   "cell_type": "code",
   "execution_count": 6,
   "metadata": {
    "execution": {
     "iopub.execute_input": "2023-01-31T02:25:49.868158Z",
     "iopub.status.busy": "2023-01-31T02:25:49.865611Z",
     "iopub.status.idle": "2023-01-31T02:25:50.635412Z",
     "shell.execute_reply": "2023-01-31T02:25:50.634518Z",
     "shell.execute_reply.started": "2023-01-31T02:25:49.868119Z"
    },
    "executionInfo": {
     "elapsed": 16072,
     "status": "ok",
     "timestamp": 1651827492777,
     "user": {
      "displayName": "Quang 9 Doan",
      "userId": "16992828409336388600"
     },
     "user_tz": -420
    },
    "id": "2i6mZf7fMbnV",
    "outputId": "76f43afd-3cc6-4faf-9471-534f239c6470"
   },
   "outputs": [
    {
     "name": "stdout",
     "output_type": "stream",
     "text": [
      "['./input_data\\\\TCGA_CS_4941_19960909\\\\TCGA_CS_4941_19960909_10.tif', './input_data\\\\TCGA_CS_4941_19960909\\\\TCGA_CS_4941_19960909_11.tif', './input_data\\\\TCGA_CS_4941_19960909\\\\TCGA_CS_4941_19960909_12.tif', './input_data\\\\TCGA_CS_4941_19960909\\\\TCGA_CS_4941_19960909_13.tif', './input_data\\\\TCGA_CS_4941_19960909\\\\TCGA_CS_4941_19960909_14.tif', './input_data\\\\TCGA_CS_4941_19960909\\\\TCGA_CS_4941_19960909_15.tif', './input_data\\\\TCGA_CS_4941_19960909\\\\TCGA_CS_4941_19960909_16.tif', './input_data\\\\TCGA_CS_4941_19960909\\\\TCGA_CS_4941_19960909_17.tif', './input_data\\\\TCGA_CS_4941_19960909\\\\TCGA_CS_4941_19960909_18.tif', './input_data\\\\TCGA_CS_4941_19960909\\\\TCGA_CS_4941_19960909_19.tif']\n",
      "['./input_data\\\\TCGA_CS_4941_19960909\\\\TCGA_CS_4941_19960909_10_mask.tif', './input_data\\\\TCGA_CS_4941_19960909\\\\TCGA_CS_4941_19960909_11_mask.tif', './input_data\\\\TCGA_CS_4941_19960909\\\\TCGA_CS_4941_19960909_12_mask.tif', './input_data\\\\TCGA_CS_4941_19960909\\\\TCGA_CS_4941_19960909_13_mask.tif', './input_data\\\\TCGA_CS_4941_19960909\\\\TCGA_CS_4941_19960909_14_mask.tif', './input_data\\\\TCGA_CS_4941_19960909\\\\TCGA_CS_4941_19960909_15_mask.tif', './input_data\\\\TCGA_CS_4941_19960909\\\\TCGA_CS_4941_19960909_16_mask.tif', './input_data\\\\TCGA_CS_4941_19960909\\\\TCGA_CS_4941_19960909_17_mask.tif', './input_data\\\\TCGA_CS_4941_19960909\\\\TCGA_CS_4941_19960909_18_mask.tif', './input_data\\\\TCGA_CS_4941_19960909\\\\TCGA_CS_4941_19960909_19_mask.tif']\n"
     ]
    }
   ],
   "source": [
    "train_files = []\n",
    "mask_files = glob('./input_data/*/*_mask*')\n",
    "\n",
    "for i in mask_files:\n",
    "    train_files.append(i.replace('_mask',''))\n",
    "\n",
    "print(train_files[:10])\n",
    "print(mask_files[:10])"
   ]
  },
  {
   "cell_type": "markdown",
   "metadata": {
    "id": "lcI1lzfOMbnW"
   },
   "source": [
    "# **Data Visualization**"
   ]
  },
  {
   "cell_type": "code",
   "execution_count": 3,
   "metadata": {
    "execution": {
     "iopub.execute_input": "2023-01-31T00:33:51.961796Z",
     "iopub.status.busy": "2023-01-31T00:33:51.959648Z",
     "iopub.status.idle": "2023-01-31T00:33:52.989341Z",
     "shell.execute_reply": "2023-01-31T00:33:52.988226Z",
     "shell.execute_reply.started": "2023-01-31T00:33:51.961756Z"
    },
    "executionInfo": {
     "elapsed": 31,
     "status": "aborted",
     "timestamp": 1651827096907,
     "user": {
      "displayName": "Quang 9 Doan",
      "userId": "16992828409336388600"
     },
     "user_tz": -420
    },
    "id": "VixH-tR2MbnX",
    "scrolled": true
   },
   "outputs": [
    {
     "ename": "KeyboardInterrupt",
     "evalue": "",
     "output_type": "error",
     "traceback": [
      "\u001b[0;31m---------------------------------------------------------------------------\u001b[0m",
      "\u001b[0;31mKeyboardInterrupt\u001b[0m                         Traceback (most recent call last)",
      "\u001b[0;32m/tmp/ipykernel_17/4125903397.py\u001b[0m in \u001b[0;36m<module>\u001b[0;34m\u001b[0m\n\u001b[1;32m     11\u001b[0m     \u001b[0mplt\u001b[0m\u001b[0;34m.\u001b[0m\u001b[0mimshow\u001b[0m\u001b[0;34m(\u001b[0m\u001b[0mimg\u001b[0m\u001b[0;34m)\u001b[0m\u001b[0;34m\u001b[0m\u001b[0;34m\u001b[0m\u001b[0m\n\u001b[1;32m     12\u001b[0m     \u001b[0mplt\u001b[0m\u001b[0;34m.\u001b[0m\u001b[0mimshow\u001b[0m\u001b[0;34m(\u001b[0m\u001b[0mmsk\u001b[0m\u001b[0;34m,\u001b[0m\u001b[0malpha\u001b[0m\u001b[0;34m=\u001b[0m\u001b[0;36m0.4\u001b[0m\u001b[0;34m)\u001b[0m\u001b[0;34m\u001b[0m\u001b[0;34m\u001b[0m\u001b[0m\n\u001b[0;32m---> 13\u001b[0;31m \u001b[0mplt\u001b[0m\u001b[0;34m.\u001b[0m\u001b[0mshow\u001b[0m\u001b[0;34m(\u001b[0m\u001b[0;34m)\u001b[0m\u001b[0;34m\u001b[0m\u001b[0;34m\u001b[0m\u001b[0m\n\u001b[0m",
      "\u001b[0;32m/opt/conda/lib/python3.7/site-packages/matplotlib/pyplot.py\u001b[0m in \u001b[0;36mshow\u001b[0;34m(*args, **kwargs)\u001b[0m\n\u001b[1;32m    366\u001b[0m     \"\"\"\n\u001b[1;32m    367\u001b[0m     \u001b[0m_warn_if_gui_out_of_main_thread\u001b[0m\u001b[0;34m(\u001b[0m\u001b[0;34m)\u001b[0m\u001b[0;34m\u001b[0m\u001b[0;34m\u001b[0m\u001b[0m\n\u001b[0;32m--> 368\u001b[0;31m     \u001b[0;32mreturn\u001b[0m \u001b[0m_backend_mod\u001b[0m\u001b[0;34m.\u001b[0m\u001b[0mshow\u001b[0m\u001b[0;34m(\u001b[0m\u001b[0;34m*\u001b[0m\u001b[0margs\u001b[0m\u001b[0;34m,\u001b[0m \u001b[0;34m**\u001b[0m\u001b[0mkwargs\u001b[0m\u001b[0;34m)\u001b[0m\u001b[0;34m\u001b[0m\u001b[0;34m\u001b[0m\u001b[0m\n\u001b[0m\u001b[1;32m    369\u001b[0m \u001b[0;34m\u001b[0m\u001b[0m\n\u001b[1;32m    370\u001b[0m \u001b[0;34m\u001b[0m\u001b[0m\n",
      "\u001b[0;32m/opt/conda/lib/python3.7/site-packages/matplotlib_inline/backend_inline.py\u001b[0m in \u001b[0;36mshow\u001b[0;34m(close, block)\u001b[0m\n\u001b[1;32m     41\u001b[0m             display(\n\u001b[1;32m     42\u001b[0m                 \u001b[0mfigure_manager\u001b[0m\u001b[0;34m.\u001b[0m\u001b[0mcanvas\u001b[0m\u001b[0;34m.\u001b[0m\u001b[0mfigure\u001b[0m\u001b[0;34m,\u001b[0m\u001b[0;34m\u001b[0m\u001b[0;34m\u001b[0m\u001b[0m\n\u001b[0;32m---> 43\u001b[0;31m                 \u001b[0mmetadata\u001b[0m\u001b[0;34m=\u001b[0m\u001b[0m_fetch_figure_metadata\u001b[0m\u001b[0;34m(\u001b[0m\u001b[0mfigure_manager\u001b[0m\u001b[0;34m.\u001b[0m\u001b[0mcanvas\u001b[0m\u001b[0;34m.\u001b[0m\u001b[0mfigure\u001b[0m\u001b[0;34m)\u001b[0m\u001b[0;34m\u001b[0m\u001b[0;34m\u001b[0m\u001b[0m\n\u001b[0m\u001b[1;32m     44\u001b[0m             )\n\u001b[1;32m     45\u001b[0m     \u001b[0;32mfinally\u001b[0m\u001b[0;34m:\u001b[0m\u001b[0;34m\u001b[0m\u001b[0;34m\u001b[0m\u001b[0m\n",
      "\u001b[0;32m/opt/conda/lib/python3.7/site-packages/matplotlib_inline/backend_inline.py\u001b[0m in \u001b[0;36m_fetch_figure_metadata\u001b[0;34m(fig)\u001b[0m\n\u001b[1;32m    230\u001b[0m         \u001b[0;31m# the background is transparent\u001b[0m\u001b[0;34m\u001b[0m\u001b[0;34m\u001b[0m\u001b[0;34m\u001b[0m\u001b[0m\n\u001b[1;32m    231\u001b[0m         ticksLight = _is_light([label.get_color()\n\u001b[0;32m--> 232\u001b[0;31m                                 \u001b[0;32mfor\u001b[0m \u001b[0maxes\u001b[0m \u001b[0;32min\u001b[0m \u001b[0mfig\u001b[0m\u001b[0;34m.\u001b[0m\u001b[0maxes\u001b[0m\u001b[0;34m\u001b[0m\u001b[0;34m\u001b[0m\u001b[0m\n\u001b[0m\u001b[1;32m    233\u001b[0m                                 \u001b[0;32mfor\u001b[0m \u001b[0maxis\u001b[0m \u001b[0;32min\u001b[0m \u001b[0;34m(\u001b[0m\u001b[0maxes\u001b[0m\u001b[0;34m.\u001b[0m\u001b[0mxaxis\u001b[0m\u001b[0;34m,\u001b[0m \u001b[0maxes\u001b[0m\u001b[0;34m.\u001b[0m\u001b[0myaxis\u001b[0m\u001b[0;34m)\u001b[0m\u001b[0;34m\u001b[0m\u001b[0;34m\u001b[0m\u001b[0m\n\u001b[1;32m    234\u001b[0m                                 for label in axis.get_ticklabels()])\n",
      "\u001b[0;32m/opt/conda/lib/python3.7/site-packages/matplotlib_inline/backend_inline.py\u001b[0m in \u001b[0;36m<listcomp>\u001b[0;34m(.0)\u001b[0m\n\u001b[1;32m    232\u001b[0m                                 \u001b[0;32mfor\u001b[0m \u001b[0maxes\u001b[0m \u001b[0;32min\u001b[0m \u001b[0mfig\u001b[0m\u001b[0;34m.\u001b[0m\u001b[0maxes\u001b[0m\u001b[0;34m\u001b[0m\u001b[0;34m\u001b[0m\u001b[0m\n\u001b[1;32m    233\u001b[0m                                 \u001b[0;32mfor\u001b[0m \u001b[0maxis\u001b[0m \u001b[0;32min\u001b[0m \u001b[0;34m(\u001b[0m\u001b[0maxes\u001b[0m\u001b[0;34m.\u001b[0m\u001b[0mxaxis\u001b[0m\u001b[0;34m,\u001b[0m \u001b[0maxes\u001b[0m\u001b[0;34m.\u001b[0m\u001b[0myaxis\u001b[0m\u001b[0;34m)\u001b[0m\u001b[0;34m\u001b[0m\u001b[0;34m\u001b[0m\u001b[0m\n\u001b[0;32m--> 234\u001b[0;31m                                 for label in axis.get_ticklabels()])\n\u001b[0m\u001b[1;32m    235\u001b[0m         \u001b[0;32mif\u001b[0m \u001b[0mticksLight\u001b[0m\u001b[0;34m.\u001b[0m\u001b[0msize\u001b[0m \u001b[0;32mand\u001b[0m \u001b[0;34m(\u001b[0m\u001b[0mticksLight\u001b[0m \u001b[0;34m==\u001b[0m \u001b[0mticksLight\u001b[0m\u001b[0;34m[\u001b[0m\u001b[0;36m0\u001b[0m\u001b[0;34m]\u001b[0m\u001b[0;34m)\u001b[0m\u001b[0;34m.\u001b[0m\u001b[0mall\u001b[0m\u001b[0;34m(\u001b[0m\u001b[0;34m)\u001b[0m\u001b[0;34m:\u001b[0m\u001b[0;34m\u001b[0m\u001b[0;34m\u001b[0m\u001b[0m\n\u001b[1;32m    236\u001b[0m             \u001b[0;31m# there are one or more tick labels, all with the same lightness\u001b[0m\u001b[0;34m\u001b[0m\u001b[0;34m\u001b[0m\u001b[0;34m\u001b[0m\u001b[0m\n",
      "\u001b[0;32m/opt/conda/lib/python3.7/site-packages/matplotlib/axis.py\u001b[0m in \u001b[0;36mget_ticklabels\u001b[0;34m(self, minor, which)\u001b[0m\n\u001b[1;32m   1247\u001b[0m         \u001b[0;32mif\u001b[0m \u001b[0mminor\u001b[0m\u001b[0;34m:\u001b[0m\u001b[0;34m\u001b[0m\u001b[0;34m\u001b[0m\u001b[0m\n\u001b[1;32m   1248\u001b[0m             \u001b[0;32mreturn\u001b[0m \u001b[0mself\u001b[0m\u001b[0;34m.\u001b[0m\u001b[0mget_minorticklabels\u001b[0m\u001b[0;34m(\u001b[0m\u001b[0;34m)\u001b[0m\u001b[0;34m\u001b[0m\u001b[0;34m\u001b[0m\u001b[0m\n\u001b[0;32m-> 1249\u001b[0;31m         \u001b[0;32mreturn\u001b[0m \u001b[0mself\u001b[0m\u001b[0;34m.\u001b[0m\u001b[0mget_majorticklabels\u001b[0m\u001b[0;34m(\u001b[0m\u001b[0;34m)\u001b[0m\u001b[0;34m\u001b[0m\u001b[0;34m\u001b[0m\u001b[0m\n\u001b[0m\u001b[1;32m   1250\u001b[0m \u001b[0;34m\u001b[0m\u001b[0m\n\u001b[1;32m   1251\u001b[0m     \u001b[0;32mdef\u001b[0m \u001b[0mget_majorticklines\u001b[0m\u001b[0;34m(\u001b[0m\u001b[0mself\u001b[0m\u001b[0;34m)\u001b[0m\u001b[0;34m:\u001b[0m\u001b[0;34m\u001b[0m\u001b[0;34m\u001b[0m\u001b[0m\n",
      "\u001b[0;32m/opt/conda/lib/python3.7/site-packages/matplotlib/axis.py\u001b[0m in \u001b[0;36mget_majorticklabels\u001b[0;34m(self)\u001b[0m\n\u001b[1;32m   1199\u001b[0m     \u001b[0;32mdef\u001b[0m \u001b[0mget_majorticklabels\u001b[0m\u001b[0;34m(\u001b[0m\u001b[0mself\u001b[0m\u001b[0;34m)\u001b[0m\u001b[0;34m:\u001b[0m\u001b[0;34m\u001b[0m\u001b[0;34m\u001b[0m\u001b[0m\n\u001b[1;32m   1200\u001b[0m         \u001b[0;34m\"\"\"Return this Axis' major tick labels, as a list of `~.text.Text`.\"\"\"\u001b[0m\u001b[0;34m\u001b[0m\u001b[0;34m\u001b[0m\u001b[0m\n\u001b[0;32m-> 1201\u001b[0;31m         \u001b[0mticks\u001b[0m \u001b[0;34m=\u001b[0m \u001b[0mself\u001b[0m\u001b[0;34m.\u001b[0m\u001b[0mget_major_ticks\u001b[0m\u001b[0;34m(\u001b[0m\u001b[0;34m)\u001b[0m\u001b[0;34m\u001b[0m\u001b[0;34m\u001b[0m\u001b[0m\n\u001b[0m\u001b[1;32m   1202\u001b[0m         \u001b[0mlabels1\u001b[0m \u001b[0;34m=\u001b[0m \u001b[0;34m[\u001b[0m\u001b[0mtick\u001b[0m\u001b[0;34m.\u001b[0m\u001b[0mlabel1\u001b[0m \u001b[0;32mfor\u001b[0m \u001b[0mtick\u001b[0m \u001b[0;32min\u001b[0m \u001b[0mticks\u001b[0m \u001b[0;32mif\u001b[0m \u001b[0mtick\u001b[0m\u001b[0;34m.\u001b[0m\u001b[0mlabel1\u001b[0m\u001b[0;34m.\u001b[0m\u001b[0mget_visible\u001b[0m\u001b[0;34m(\u001b[0m\u001b[0;34m)\u001b[0m\u001b[0;34m]\u001b[0m\u001b[0;34m\u001b[0m\u001b[0;34m\u001b[0m\u001b[0m\n\u001b[1;32m   1203\u001b[0m         \u001b[0mlabels2\u001b[0m \u001b[0;34m=\u001b[0m \u001b[0;34m[\u001b[0m\u001b[0mtick\u001b[0m\u001b[0;34m.\u001b[0m\u001b[0mlabel2\u001b[0m \u001b[0;32mfor\u001b[0m \u001b[0mtick\u001b[0m \u001b[0;32min\u001b[0m \u001b[0mticks\u001b[0m \u001b[0;32mif\u001b[0m \u001b[0mtick\u001b[0m\u001b[0;34m.\u001b[0m\u001b[0mlabel2\u001b[0m\u001b[0;34m.\u001b[0m\u001b[0mget_visible\u001b[0m\u001b[0;34m(\u001b[0m\u001b[0;34m)\u001b[0m\u001b[0;34m]\u001b[0m\u001b[0;34m\u001b[0m\u001b[0;34m\u001b[0m\u001b[0m\n",
      "\u001b[0;32m/opt/conda/lib/python3.7/site-packages/matplotlib/axis.py\u001b[0m in \u001b[0;36mget_major_ticks\u001b[0;34m(self, numticks)\u001b[0m\n\u001b[1;32m   1373\u001b[0m         \u001b[0;32mwhile\u001b[0m \u001b[0mlen\u001b[0m\u001b[0;34m(\u001b[0m\u001b[0mself\u001b[0m\u001b[0;34m.\u001b[0m\u001b[0mmajorTicks\u001b[0m\u001b[0;34m)\u001b[0m \u001b[0;34m<\u001b[0m \u001b[0mnumticks\u001b[0m\u001b[0;34m:\u001b[0m\u001b[0;34m\u001b[0m\u001b[0;34m\u001b[0m\u001b[0m\n\u001b[1;32m   1374\u001b[0m             \u001b[0;31m# Update the new tick label properties from the old.\u001b[0m\u001b[0;34m\u001b[0m\u001b[0;34m\u001b[0m\u001b[0;34m\u001b[0m\u001b[0m\n\u001b[0;32m-> 1375\u001b[0;31m             \u001b[0mtick\u001b[0m \u001b[0;34m=\u001b[0m \u001b[0mself\u001b[0m\u001b[0;34m.\u001b[0m\u001b[0m_get_tick\u001b[0m\u001b[0;34m(\u001b[0m\u001b[0mmajor\u001b[0m\u001b[0;34m=\u001b[0m\u001b[0;32mTrue\u001b[0m\u001b[0;34m)\u001b[0m\u001b[0;34m\u001b[0m\u001b[0;34m\u001b[0m\u001b[0m\n\u001b[0m\u001b[1;32m   1376\u001b[0m             \u001b[0mself\u001b[0m\u001b[0;34m.\u001b[0m\u001b[0mmajorTicks\u001b[0m\u001b[0;34m.\u001b[0m\u001b[0mappend\u001b[0m\u001b[0;34m(\u001b[0m\u001b[0mtick\u001b[0m\u001b[0;34m)\u001b[0m\u001b[0;34m\u001b[0m\u001b[0;34m\u001b[0m\u001b[0m\n\u001b[1;32m   1377\u001b[0m             \u001b[0mself\u001b[0m\u001b[0;34m.\u001b[0m\u001b[0m_copy_tick_props\u001b[0m\u001b[0;34m(\u001b[0m\u001b[0mself\u001b[0m\u001b[0;34m.\u001b[0m\u001b[0mmajorTicks\u001b[0m\u001b[0;34m[\u001b[0m\u001b[0;36m0\u001b[0m\u001b[0;34m]\u001b[0m\u001b[0;34m,\u001b[0m \u001b[0mtick\u001b[0m\u001b[0;34m)\u001b[0m\u001b[0;34m\u001b[0m\u001b[0;34m\u001b[0m\u001b[0m\n",
      "\u001b[0;32m/opt/conda/lib/python3.7/site-packages/matplotlib/axis.py\u001b[0m in \u001b[0;36m_get_tick\u001b[0;34m(self, major)\u001b[0m\n\u001b[1;32m   2055\u001b[0m         \u001b[0;32melse\u001b[0m\u001b[0;34m:\u001b[0m\u001b[0;34m\u001b[0m\u001b[0;34m\u001b[0m\u001b[0m\n\u001b[1;32m   2056\u001b[0m             \u001b[0mtick_kw\u001b[0m \u001b[0;34m=\u001b[0m \u001b[0mself\u001b[0m\u001b[0;34m.\u001b[0m\u001b[0m_minor_tick_kw\u001b[0m\u001b[0;34m\u001b[0m\u001b[0;34m\u001b[0m\u001b[0m\n\u001b[0;32m-> 2057\u001b[0;31m         \u001b[0;32mreturn\u001b[0m \u001b[0mXTick\u001b[0m\u001b[0;34m(\u001b[0m\u001b[0mself\u001b[0m\u001b[0;34m.\u001b[0m\u001b[0maxes\u001b[0m\u001b[0;34m,\u001b[0m \u001b[0;36m0\u001b[0m\u001b[0;34m,\u001b[0m \u001b[0mmajor\u001b[0m\u001b[0;34m=\u001b[0m\u001b[0mmajor\u001b[0m\u001b[0;34m,\u001b[0m \u001b[0;34m**\u001b[0m\u001b[0mtick_kw\u001b[0m\u001b[0;34m)\u001b[0m\u001b[0;34m\u001b[0m\u001b[0;34m\u001b[0m\u001b[0m\n\u001b[0m\u001b[1;32m   2058\u001b[0m \u001b[0;34m\u001b[0m\u001b[0m\n\u001b[1;32m   2059\u001b[0m     \u001b[0;32mdef\u001b[0m \u001b[0mset_label_position\u001b[0m\u001b[0;34m(\u001b[0m\u001b[0mself\u001b[0m\u001b[0;34m,\u001b[0m \u001b[0mposition\u001b[0m\u001b[0;34m)\u001b[0m\u001b[0;34m:\u001b[0m\u001b[0;34m\u001b[0m\u001b[0;34m\u001b[0m\u001b[0m\n",
      "\u001b[0;32m/opt/conda/lib/python3.7/site-packages/matplotlib/axis.py\u001b[0m in \u001b[0;36m__init__\u001b[0;34m(self, *args, **kwargs)\u001b[0m\n\u001b[1;32m    413\u001b[0m \u001b[0;34m\u001b[0m\u001b[0m\n\u001b[1;32m    414\u001b[0m     \u001b[0;32mdef\u001b[0m \u001b[0m__init__\u001b[0m\u001b[0;34m(\u001b[0m\u001b[0mself\u001b[0m\u001b[0;34m,\u001b[0m \u001b[0;34m*\u001b[0m\u001b[0margs\u001b[0m\u001b[0;34m,\u001b[0m \u001b[0;34m**\u001b[0m\u001b[0mkwargs\u001b[0m\u001b[0;34m)\u001b[0m\u001b[0;34m:\u001b[0m\u001b[0;34m\u001b[0m\u001b[0;34m\u001b[0m\u001b[0m\n\u001b[0;32m--> 415\u001b[0;31m         \u001b[0msuper\u001b[0m\u001b[0;34m(\u001b[0m\u001b[0;34m)\u001b[0m\u001b[0;34m.\u001b[0m\u001b[0m__init__\u001b[0m\u001b[0;34m(\u001b[0m\u001b[0;34m*\u001b[0m\u001b[0margs\u001b[0m\u001b[0;34m,\u001b[0m \u001b[0;34m**\u001b[0m\u001b[0mkwargs\u001b[0m\u001b[0;34m)\u001b[0m\u001b[0;34m\u001b[0m\u001b[0;34m\u001b[0m\u001b[0m\n\u001b[0m\u001b[1;32m    416\u001b[0m         \u001b[0;31m# x in data coords, y in axes coords\u001b[0m\u001b[0;34m\u001b[0m\u001b[0;34m\u001b[0m\u001b[0;34m\u001b[0m\u001b[0m\n\u001b[1;32m    417\u001b[0m         \u001b[0max\u001b[0m \u001b[0;34m=\u001b[0m \u001b[0mself\u001b[0m\u001b[0;34m.\u001b[0m\u001b[0maxes\u001b[0m\u001b[0;34m\u001b[0m\u001b[0;34m\u001b[0m\u001b[0m\n",
      "\u001b[0;32m/opt/conda/lib/python3.7/site-packages/matplotlib/axis.py\u001b[0m in \u001b[0;36m__init__\u001b[0;34m(self, axes, loc, size, width, color, tickdir, pad, labelsize, labelcolor, zorder, gridOn, tick1On, tick2On, label1On, label2On, major, labelrotation, grid_color, grid_linestyle, grid_linewidth, grid_alpha, **kw)\u001b[0m\n\u001b[1;32m    169\u001b[0m             \u001b[0mnp\u001b[0m\u001b[0;34m.\u001b[0m\u001b[0mnan\u001b[0m\u001b[0;34m,\u001b[0m \u001b[0mnp\u001b[0m\u001b[0;34m.\u001b[0m\u001b[0mnan\u001b[0m\u001b[0;34m,\u001b[0m\u001b[0;34m\u001b[0m\u001b[0;34m\u001b[0m\u001b[0m\n\u001b[1;32m    170\u001b[0m             \u001b[0mfontsize\u001b[0m\u001b[0;34m=\u001b[0m\u001b[0mlabelsize\u001b[0m\u001b[0;34m,\u001b[0m \u001b[0mcolor\u001b[0m\u001b[0;34m=\u001b[0m\u001b[0mlabelcolor\u001b[0m\u001b[0;34m,\u001b[0m \u001b[0mvisible\u001b[0m\u001b[0;34m=\u001b[0m\u001b[0mlabel1On\u001b[0m\u001b[0;34m,\u001b[0m\u001b[0;34m\u001b[0m\u001b[0;34m\u001b[0m\u001b[0m\n\u001b[0;32m--> 171\u001b[0;31m             rotation=self._labelrotation[1])\n\u001b[0m\u001b[1;32m    172\u001b[0m         self.label2 = mtext.Text(\n\u001b[1;32m    173\u001b[0m             \u001b[0mnp\u001b[0m\u001b[0;34m.\u001b[0m\u001b[0mnan\u001b[0m\u001b[0;34m,\u001b[0m \u001b[0mnp\u001b[0m\u001b[0;34m.\u001b[0m\u001b[0mnan\u001b[0m\u001b[0;34m,\u001b[0m\u001b[0;34m\u001b[0m\u001b[0;34m\u001b[0m\u001b[0m\n",
      "\u001b[0;32m/opt/conda/lib/python3.7/site-packages/matplotlib/text.py\u001b[0m in \u001b[0;36m__init__\u001b[0;34m(self, x, y, text, color, verticalalignment, horizontalalignment, multialignment, fontproperties, rotation, linespacing, rotation_mode, usetex, wrap, transform_rotates_text, parse_math, **kwargs)\u001b[0m\n\u001b[1;32m    158\u001b[0m         \u001b[0mself\u001b[0m\u001b[0;34m.\u001b[0m\u001b[0m_linespacing\u001b[0m \u001b[0;34m=\u001b[0m \u001b[0mlinespacing\u001b[0m\u001b[0;34m\u001b[0m\u001b[0;34m\u001b[0m\u001b[0m\n\u001b[1;32m    159\u001b[0m         \u001b[0mself\u001b[0m\u001b[0;34m.\u001b[0m\u001b[0mset_rotation_mode\u001b[0m\u001b[0;34m(\u001b[0m\u001b[0mrotation_mode\u001b[0m\u001b[0;34m)\u001b[0m\u001b[0;34m\u001b[0m\u001b[0;34m\u001b[0m\u001b[0m\n\u001b[0;32m--> 160\u001b[0;31m         \u001b[0mself\u001b[0m\u001b[0;34m.\u001b[0m\u001b[0mupdate\u001b[0m\u001b[0;34m(\u001b[0m\u001b[0mkwargs\u001b[0m\u001b[0;34m)\u001b[0m\u001b[0;34m\u001b[0m\u001b[0;34m\u001b[0m\u001b[0m\n\u001b[0m\u001b[1;32m    161\u001b[0m \u001b[0;34m\u001b[0m\u001b[0m\n\u001b[1;32m    162\u001b[0m     \u001b[0;32mdef\u001b[0m \u001b[0mupdate\u001b[0m\u001b[0;34m(\u001b[0m\u001b[0mself\u001b[0m\u001b[0;34m,\u001b[0m \u001b[0mkwargs\u001b[0m\u001b[0;34m)\u001b[0m\u001b[0;34m:\u001b[0m\u001b[0;34m\u001b[0m\u001b[0;34m\u001b[0m\u001b[0m\n",
      "\u001b[0;32m/opt/conda/lib/python3.7/site-packages/matplotlib/text.py\u001b[0m in \u001b[0;36mupdate\u001b[0;34m(self, kwargs)\u001b[0m\n\u001b[1;32m    162\u001b[0m     \u001b[0;32mdef\u001b[0m \u001b[0mupdate\u001b[0m\u001b[0;34m(\u001b[0m\u001b[0mself\u001b[0m\u001b[0;34m,\u001b[0m \u001b[0mkwargs\u001b[0m\u001b[0;34m)\u001b[0m\u001b[0;34m:\u001b[0m\u001b[0;34m\u001b[0m\u001b[0;34m\u001b[0m\u001b[0m\n\u001b[1;32m    163\u001b[0m         \u001b[0;31m# docstring inherited\u001b[0m\u001b[0;34m\u001b[0m\u001b[0;34m\u001b[0m\u001b[0;34m\u001b[0m\u001b[0m\n\u001b[0;32m--> 164\u001b[0;31m         \u001b[0mkwargs\u001b[0m \u001b[0;34m=\u001b[0m \u001b[0mcbook\u001b[0m\u001b[0;34m.\u001b[0m\u001b[0mnormalize_kwargs\u001b[0m\u001b[0;34m(\u001b[0m\u001b[0mkwargs\u001b[0m\u001b[0;34m,\u001b[0m \u001b[0mText\u001b[0m\u001b[0;34m)\u001b[0m\u001b[0;34m\u001b[0m\u001b[0;34m\u001b[0m\u001b[0m\n\u001b[0m\u001b[1;32m    165\u001b[0m         \u001b[0msentinel\u001b[0m \u001b[0;34m=\u001b[0m \u001b[0mobject\u001b[0m\u001b[0;34m(\u001b[0m\u001b[0;34m)\u001b[0m  \u001b[0;31m# bbox can be None, so use another sentinel.\u001b[0m\u001b[0;34m\u001b[0m\u001b[0;34m\u001b[0m\u001b[0m\n\u001b[1;32m    166\u001b[0m         \u001b[0;31m# Update fontproperties first, as it has lowest priority.\u001b[0m\u001b[0;34m\u001b[0m\u001b[0;34m\u001b[0m\u001b[0;34m\u001b[0m\u001b[0m\n",
      "\u001b[0;32m/opt/conda/lib/python3.7/site-packages/matplotlib/cbook/__init__.py\u001b[0m in \u001b[0;36mnormalize_kwargs\u001b[0;34m(kw, alias_mapping)\u001b[0m\n\u001b[1;32m   1726\u001b[0m     elif (isinstance(alias_mapping, type) and issubclass(alias_mapping, Artist)\n\u001b[1;32m   1727\u001b[0m           or isinstance(alias_mapping, Artist)):\n\u001b[0;32m-> 1728\u001b[0;31m         \u001b[0malias_mapping\u001b[0m \u001b[0;34m=\u001b[0m \u001b[0mgetattr\u001b[0m\u001b[0;34m(\u001b[0m\u001b[0malias_mapping\u001b[0m\u001b[0;34m,\u001b[0m \u001b[0;34m\"_alias_map\"\u001b[0m\u001b[0;34m,\u001b[0m \u001b[0;34m{\u001b[0m\u001b[0;34m}\u001b[0m\u001b[0;34m)\u001b[0m\u001b[0;34m\u001b[0m\u001b[0;34m\u001b[0m\u001b[0m\n\u001b[0m\u001b[1;32m   1729\u001b[0m \u001b[0;34m\u001b[0m\u001b[0m\n\u001b[1;32m   1730\u001b[0m     to_canonical = {alias: canonical\n",
      "\u001b[0;31mKeyboardInterrupt\u001b[0m: "
     ]
    }
   ],
   "source": [
    "#Lets plot some samples\n",
    "ds = dicom.dcmread(image_path)\n",
    "pixel_array_numpy = ds.pixel_array\n",
    "\n",
    "rows,cols=3,3\n",
    "fig=plt.figure(figsize=(10,10))\n",
    "for i in range(1,rows*cols+1):\n",
    "    fig.add_subplot(rows,cols,i)\n",
    "    img_path=train_files[i]\n",
    "    msk_path=mask_files[i]\n",
    "    img=cv2.imread(img_path)\n",
    "    img=cv2.cvtColor(img,cv2.COLOR_BGR2RGB)\n",
    "    msk=cv2.imread(msk_path)\n",
    "    plt.imshow(img)\n",
    "    plt.imshow(msk,alpha=0.4)\n",
    "plt.show()"
   ]
  },
  {
   "cell_type": "markdown",
   "metadata": {
    "id": "ZbIgGorEMbnX"
   },
   "source": [
    "# **Create data frame and split data on train set, validation set and test set**"
   ]
  },
  {
   "cell_type": "code",
   "execution_count": 7,
   "metadata": {
    "execution": {
     "iopub.execute_input": "2023-01-31T02:25:52.114189Z",
     "iopub.status.busy": "2023-01-31T02:25:52.113861Z",
     "iopub.status.idle": "2023-01-31T02:25:52.137183Z",
     "shell.execute_reply": "2023-01-31T02:25:52.136482Z",
     "shell.execute_reply.started": "2023-01-31T02:25:52.114152Z"
    },
    "executionInfo": {
     "elapsed": 13,
     "status": "ok",
     "timestamp": 1651827492778,
     "user": {
      "displayName": "Quang 9 Doan",
      "userId": "16992828409336388600"
     },
     "user_tz": -420
    },
    "id": "-nGy7-u4MbnY",
    "outputId": "084b3ae7-3664-4f3c-a6b5-d19d5919886d"
   },
   "outputs": [
    {
     "name": "stdout",
     "output_type": "stream",
     "text": [
      "(2749, 2)\n",
      "(590, 2)\n",
      "(590, 2)\n"
     ]
    }
   ],
   "source": [
    "df = pd.DataFrame(data={\"filename\": train_files, 'mask' : mask_files})\n",
    "df_train, df_test = train_test_split(df,test_size = 0.15)\n",
    "df_train, df_val = train_test_split(df_train,test_size = 0.1765)\n",
    "print(df_train.values.shape)\n",
    "print(df_val.values.shape)\n",
    "print(df_test.values.shape)"
   ]
  },
  {
   "cell_type": "code",
   "execution_count": null,
   "metadata": {},
   "outputs": [],
   "source": []
  },
  {
   "cell_type": "markdown",
   "metadata": {
    "id": "wsepwccpMbnY"
   },
   "source": [
    "# **Data genertator, data augmentation and adjust data**"
   ]
  },
  {
   "cell_type": "code",
   "execution_count": 8,
   "metadata": {
    "execution": {
     "iopub.execute_input": "2023-01-31T02:25:54.550520Z",
     "iopub.status.busy": "2023-01-31T02:25:54.550201Z",
     "iopub.status.idle": "2023-01-31T02:25:54.562555Z",
     "shell.execute_reply": "2023-01-31T02:25:54.561876Z",
     "shell.execute_reply.started": "2023-01-31T02:25:54.550482Z"
    },
    "executionInfo": {
     "elapsed": 9,
     "status": "ok",
     "timestamp": 1651827492779,
     "user": {
      "displayName": "Quang 9 Doan",
      "userId": "16992828409336388600"
     },
     "user_tz": -420
    },
    "id": "LDhIsUY4MbnZ"
   },
   "outputs": [],
   "source": [
    "# From: https://github.com/zhixuhao/unet/blob/master/data.py\n",
    "def train_generator(data_frame, batch_size, aug_dict,\n",
    "        image_color_mode=\"rgb\",\n",
    "        mask_color_mode=\"grayscale\",\n",
    "        image_save_prefix=\"image\",\n",
    "        mask_save_prefix=\"mask\",\n",
    "        save_to_dir=None,\n",
    "        target_size=(256,256),\n",
    "        seed=1):\n",
    "    '''\n",
    "    can generate image and mask at the same time use the same seed for\n",
    "    image_datagen and mask_datagen to ensure the transformation for image\n",
    "    and mask is the same if you want to visualize the results of generator,\n",
    "    set save_to_dir = \"your path\"\n",
    "    '''\n",
    "    image_datagen = ImageDataGenerator(**aug_dict)\n",
    "    mask_datagen = ImageDataGenerator(**aug_dict)\n",
    "    \n",
    "    image_generator = image_datagen.flow_from_dataframe(\n",
    "        data_frame,\n",
    "        x_col = \"filename\",\n",
    "        class_mode = None,\n",
    "        color_mode = image_color_mode,\n",
    "        target_size = target_size,\n",
    "        batch_size = batch_size,\n",
    "        save_to_dir = save_to_dir,\n",
    "        save_prefix  = image_save_prefix,\n",
    "        seed = seed)\n",
    "\n",
    "    mask_generator = mask_datagen.flow_from_dataframe(\n",
    "        data_frame,\n",
    "        x_col = \"mask\",\n",
    "        class_mode = None,\n",
    "        color_mode = mask_color_mode,\n",
    "        target_size = target_size,\n",
    "        batch_size = batch_size,\n",
    "        save_to_dir = save_to_dir,\n",
    "        save_prefix  = mask_save_prefix,\n",
    "        seed = seed)\n",
    "\n",
    "    train_gen = zip(image_generator, mask_generator)\n",
    "    \n",
    "    for (img, mask) in train_gen:\n",
    "        img, mask = adjust_data(img, mask)\n",
    "        yield (img,mask)\n",
    "\n",
    "def adjust_data(img,mask):\n",
    "    img = img / 255\n",
    "    mask = mask / 255\n",
    "    mask[mask > 0.5] = 1\n",
    "    mask[mask <= 0.5] = 0\n",
    "    \n",
    "    return (img, mask)"
   ]
  },
  {
   "cell_type": "markdown",
   "metadata": {
    "id": "PtEMnW1yMbnZ"
   },
   "source": [
    "# **Define loss function and metrics**"
   ]
  },
  {
   "cell_type": "code",
   "execution_count": 10,
   "metadata": {
    "execution": {
     "iopub.execute_input": "2023-01-31T02:25:57.196734Z",
     "iopub.status.busy": "2023-01-31T02:25:57.196419Z",
     "iopub.status.idle": "2023-01-31T02:25:57.247224Z",
     "shell.execute_reply": "2023-01-31T02:25:57.246326Z",
     "shell.execute_reply.started": "2023-01-31T02:25:57.196698Z"
    },
    "executionInfo": {
     "elapsed": 8,
     "status": "ok",
     "timestamp": 1651827492779,
     "user": {
      "displayName": "Quang 9 Doan",
      "userId": "16992828409336388600"
     },
     "user_tz": -420
    },
    "id": "uQwpgryQMbnZ"
   },
   "outputs": [],
   "source": [
    "smooth=100\n",
    "import keras.backend as K\n",
    "# from sklearn.metrics import sensitive_score, specificity_score\n",
    "# specificity = specificity_score(y_test, y_pred)\n",
    "# sensitive = sensitive_score(y_test, y_pred)\n",
    "\n",
    "def specificity(y_true, y_pred):\n",
    "    true_negatives = K.sum(K.round(K.clip((1 - y_true) * (1 - y_pred), 0, 1)))\n",
    "    possible_negatives = K.sum(K.round(K.clip(1 - y_true, 0, 1)))\n",
    "    return true_negatives / (possible_negatives + K.epsilon())\n",
    "\n",
    "def precision(y_true, y_pred):\n",
    "    true_positives = K.sum(K.round(K.clip(y_true * y_pred, 0, 1)))\n",
    "    predicted_positives = K.sum(K.round(K.clip(y_pred, 0, 1)))\n",
    "    return true_positives / (predicted_positives + K.epsilon())\n",
    "\n",
    "def recall(y_true, y_pred): \n",
    "    true_positives = K.sum(K.round(K.clip(y_true * y_pred, 0, 1)))\n",
    "    possible_positives = K.sum(K.round(K.clip(y_true, 0, 1)))\n",
    "    return true_positives / (possible_positives + K.epsilon())\n",
    "\n",
    "# def specificity(y_true: np.array, y_pred: np.array, classes: set = None):\n",
    "\n",
    "#     if classes is None: # Determine classes from the values\n",
    "#         classes = set(np.concatenate((np.unique(y_true), np.unique(y_pred))))\n",
    "\n",
    "#     specs = []\n",
    "#     for cls in classes:\n",
    "#         y_true_cls = (y_true == cls).astype(int)\n",
    "#         y_pred_cls = (y_pred == cls).astype(int)\n",
    "\n",
    "#         fp = sum(y_pred_cls[y_true_cls != 1])\n",
    "#         tn = sum(y_pred_cls[y_true_cls == 0] == False)\n",
    "\n",
    "#         specificity_val = tn / (tn + fp)\n",
    "#         specs.append(specificity_val)\n",
    "\n",
    "#     return np.mean(specs)\n",
    "\n",
    "def dice_coef(y_true, y_pred):\n",
    "    y_truef=K.flatten(y_true)\n",
    "    y_predf=K.flatten(y_pred)\n",
    "    And=K.sum(y_truef* y_predf)\n",
    "    return((2* And + smooth) / (K.sum(y_truef) + K.sum(y_predf) + smooth))\n",
    "\n",
    "def dice_coef_loss(y_true, y_pred):\n",
    "    return -dice_coef(y_true, y_pred)\n",
    "\n",
    "def iou(y_true, y_pred):\n",
    "    intersection = K.sum(y_true * y_pred)\n",
    "    sum_ = K.sum(y_true + y_pred)\n",
    "    jac = (intersection + smooth) / (sum_ - intersection + smooth)\n",
    "    return jac\n",
    "\n",
    "ALPHA = 0.5\n",
    "BETA = 0.5\n",
    "\n",
    "def Tversky(y_true, y_pred, alpha=ALPHA, beta=BETA, smooth=100):\n",
    "        \n",
    "        #flatten label and prediction tensors\n",
    "        y_pred = K.flatten(y_pred)\n",
    "        y_true = K.flatten(y_true)\n",
    "        \n",
    "        #True Positives, False Positives & False Negatives\n",
    "        TP = K.sum((y_pred * y_true))\n",
    "        FP = K.sum(((1-y_true) * y_pred))\n",
    "        FN = K.sum((y_true * (1-y_pred)))\n",
    "       \n",
    "        Tversky = (TP + smooth) / (TP + alpha*FP + beta*FN + smooth)  \n",
    "        \n",
    "        return Tversky"
   ]
  },
  {
   "cell_type": "markdown",
   "metadata": {},
   "source": [
    "# **Unet Plus Plus**"
   ]
  },
  {
   "cell_type": "code",
   "execution_count": 30,
   "metadata": {
    "execution": {
     "iopub.execute_input": "2023-01-31T02:36:46.743943Z",
     "iopub.status.busy": "2023-01-31T02:36:46.743598Z",
     "iopub.status.idle": "2023-01-31T02:36:46.771444Z",
     "shell.execute_reply": "2023-01-31T02:36:46.770492Z",
     "shell.execute_reply.started": "2023-01-31T02:36:46.743904Z"
    }
   },
   "outputs": [],
   "source": [
    "from keras import backend as K\n",
    "from keras.layers import concatenate, Conv2DTranspose, Activation\n",
    "from keras.layers import BatchNormalization\n",
    "\n",
    "\n",
    "from keras.layers import Conv2D, Input, AvgPool2D\n",
    "from keras.models import Model\n",
    "\n",
    "dropout_rate = 0.5\n",
    "\n",
    "def conv_batchnorm_relu_block(input_tensor, nb_filter, kernel_size=3):\n",
    "\n",
    "    x = Conv2D(nb_filter, (kernel_size, kernel_size), padding='same')(input_tensor)\n",
    "    x = BatchNormalization(axis=2)(x)\n",
    "    x = Activation('relu')(x)\n",
    "\n",
    "    return x\n",
    "\n",
    "\n",
    "def unet_plus(input_shape=(256,256,3), n_labels=1, using_deep_supervision=False):\n",
    "\n",
    "    nb_filter = [32,64,128,256,512]\n",
    "\n",
    "    # Set image data format to channels first\n",
    "    global bn_axis\n",
    "\n",
    "    K.set_image_data_format(\"channels_last\")\n",
    "    bn_axis = -1\n",
    "    inputs = Input(shape=input_shape, name='input_image')\n",
    "\n",
    "    conv1_1 = conv_batchnorm_relu_block(inputs, nb_filter=nb_filter[0])\n",
    "    pool1 = AvgPool2D((2, 2), strides=(2, 2), name='pool1')(conv1_1)\n",
    "\n",
    "    conv2_1 = conv_batchnorm_relu_block(pool1, nb_filter=nb_filter[1])\n",
    "    pool2 = AvgPool2D((2, 2), strides=(2, 2), name='pool2')(conv2_1)\n",
    "\n",
    "    up1_2 = Conv2DTranspose(nb_filter[0], (2, 2), strides=(2, 2), name='up12', padding='same')(conv2_1)\n",
    "    conv1_2 = concatenate([up1_2, conv1_1], name='merge12', axis=bn_axis)\n",
    "    conv1_2 = conv_batchnorm_relu_block(conv1_2,  nb_filter=nb_filter[0])\n",
    "\n",
    "    conv3_1 = conv_batchnorm_relu_block(pool2, nb_filter=nb_filter[2])\n",
    "    pool3 = AvgPool2D((2, 2), strides=(2, 2), name='pool3')(conv3_1)\n",
    "\n",
    "    up2_2 = Conv2DTranspose(nb_filter[1], (2, 2), strides=(2, 2), name='up22', padding='same')(conv3_1)\n",
    "    conv2_2 = concatenate([up2_2, conv2_1], name='merge22', axis=bn_axis)\n",
    "    conv2_2 = conv_batchnorm_relu_block(conv2_2, nb_filter=nb_filter[1])\n",
    "\n",
    "    up1_3 = Conv2DTranspose(nb_filter[0], (2, 2), strides=(2, 2), name='up13', padding='same')(conv2_2)\n",
    "    conv1_3 = concatenate([up1_3, conv1_1, conv1_2], name='merge13', axis=bn_axis)\n",
    "    conv1_3 = conv_batchnorm_relu_block(conv1_3, nb_filter=nb_filter[0])\n",
    "\n",
    "    conv4_1 = conv_batchnorm_relu_block(pool3, nb_filter=nb_filter[3])\n",
    "    pool4 = AvgPool2D((2, 2), strides=(2, 2), name='pool4')(conv4_1)\n",
    "\n",
    "    up3_2 = Conv2DTranspose(nb_filter[2], (2, 2), strides=(2, 2), name='up32', padding='same')(conv4_1)\n",
    "    conv3_2 = concatenate([up3_2, conv3_1], name='merge32', axis=bn_axis)\n",
    "    conv3_2 = conv_batchnorm_relu_block(conv3_2, nb_filter=nb_filter[2])\n",
    "\n",
    "    up2_3 = Conv2DTranspose(nb_filter[1], (2, 2), strides=(2, 2), name='up23', padding='same')(conv3_2)\n",
    "    conv2_3 = concatenate([up2_3, conv2_1, conv2_2], name='merge23', axis=bn_axis)\n",
    "    conv2_3 = conv_batchnorm_relu_block(conv2_3, nb_filter=nb_filter[1])\n",
    "\n",
    "    up1_4 = Conv2DTranspose(nb_filter[0], (2, 2), strides=(2, 2), name='up14', padding='same')(conv2_3)\n",
    "    conv1_4 = concatenate([up1_4, conv1_1, conv1_2, conv1_3], name='merge14', axis=bn_axis)\n",
    "    conv1_4 = conv_batchnorm_relu_block(conv1_4, nb_filter=nb_filter[0])\n",
    "\n",
    "    conv5_1 = conv_batchnorm_relu_block(pool4, nb_filter=nb_filter[4])\n",
    "\n",
    "    up4_2 = Conv2DTranspose(nb_filter[3], (2, 2), strides=(2, 2), name='up42', padding='same')(conv5_1)\n",
    "    conv4_2 = concatenate([up4_2, conv4_1], name='merge42', axis=bn_axis)\n",
    "    conv4_2 = conv_batchnorm_relu_block(conv4_2, nb_filter=nb_filter[3])\n",
    "\n",
    "    up3_3 = Conv2DTranspose(nb_filter[2], (2, 2), strides=(2, 2), name='up33', padding='same')(conv4_2)\n",
    "    conv3_3 = concatenate([up3_3, conv3_1, conv3_2], name='merge33', axis=bn_axis)\n",
    "    conv3_3 = conv_batchnorm_relu_block(conv3_3, nb_filter=nb_filter[2])\n",
    "\n",
    "    up2_4 = Conv2DTranspose(nb_filter[1], (2, 2), strides=(2, 2), name='up24', padding='same')(conv3_3)\n",
    "    conv2_4 = concatenate([up2_4, conv2_1, conv2_2, conv2_3], name='merge24', axis=bn_axis)\n",
    "    conv2_4 = conv_batchnorm_relu_block(conv2_4, nb_filter=nb_filter[1])\n",
    "\n",
    "    up1_5 = Conv2DTranspose(nb_filter[0], (2, 2), strides=(2, 2), name='up15', padding='same')(conv2_4)\n",
    "    conv1_5 = concatenate([up1_5, conv1_1, conv1_2, conv1_3, conv1_4], name='merge15', axis=bn_axis)\n",
    "    conv1_5 = conv_batchnorm_relu_block(conv1_5, nb_filter=nb_filter[0])\n",
    "\n",
    "    nestnet_output_1 = Conv2D(n_labels, (1, 1), activation='sigmoid', name='output_1',padding='same')(conv1_2)\n",
    "    nestnet_output_2 = Conv2D(n_labels, (1, 1), activation='sigmoid', name='output_2', padding='same' )(conv1_3)\n",
    "    nestnet_output_3 = Conv2D(n_labels, (1, 1), activation='sigmoid', name='output_3', padding='same')(conv1_4)\n",
    "    nestnet_output_4 = Conv2D(n_labels, (1, 1), activation='sigmoid', name='output_4', padding='same')(conv1_5)\n",
    "\n",
    "    if using_deep_supervision:\n",
    "        model = Model(input=inputs, output=[nestnet_output_1,\n",
    "                                            nestnet_output_2,\n",
    "                                            nestnet_output_3,\n",
    "                                            nestnet_output_4])\n",
    "    else:\n",
    "        model = Model(inputs=inputs, outputs=nestnet_output_4)\n",
    "\n",
    "    return model"
   ]
  },
  {
   "cell_type": "markdown",
   "metadata": {
    "id": "R1sOeVeSMbna"
   },
   "source": [
    "# **Define Attention Unet**"
   ]
  },
  {
   "cell_type": "code",
   "execution_count": 10,
   "metadata": {
    "execution": {
     "iopub.execute_input": "2023-01-30T14:36:55.160725Z",
     "iopub.status.busy": "2023-01-30T14:36:55.160161Z",
     "iopub.status.idle": "2023-01-30T14:36:55.181154Z",
     "shell.execute_reply": "2023-01-30T14:36:55.179756Z",
     "shell.execute_reply.started": "2023-01-30T14:36:55.160689Z"
    },
    "executionInfo": {
     "elapsed": 8,
     "status": "ok",
     "timestamp": 1651827492779,
     "user": {
      "displayName": "Quang 9 Doan",
      "userId": "16992828409336388600"
     },
     "user_tz": -420
    },
    "id": "WQexpNW2fi7y"
   },
   "outputs": [],
   "source": [
    "def att_unet(input_size=(256,256,3)):\n",
    "    inputs = Input(input_size)\n",
    "    \n",
    "    conv1 = Conv2D(64, (3, 3), padding='same')(inputs)\n",
    "    bn1 = Activation('relu')(conv1)\n",
    "    conv1 = Conv2D(64, (3, 3), padding='same')(bn1)\n",
    "    bn1 = BatchNormalization(axis=3)(conv1)\n",
    "    bn1 = Activation('relu')(bn1)\n",
    "    pool1 = MaxPooling2D(pool_size=(2, 2))(bn1)\n",
    "\n",
    "    conv2 = Conv2D(128, (3, 3), padding='same')(pool1)\n",
    "    bn2 = Activation('relu')(conv2)\n",
    "    conv2 = Conv2D(128, (3, 3), padding='same')(bn2)\n",
    "    bn2 = BatchNormalization(axis=3)(conv2)\n",
    "    bn2 = Activation('relu')(bn2)\n",
    "    pool2 = MaxPooling2D(pool_size=(2, 2))(bn2)\n",
    "\n",
    "    conv3 = Conv2D(256, (3, 3), padding='same')(pool2)\n",
    "    bn3 = Activation('relu')(conv3)\n",
    "    conv3 = Conv2D(256, (3, 3), padding='same')(bn3)\n",
    "    bn3 = BatchNormalization(axis=3)(conv3)\n",
    "    bn3 = Activation('relu')(bn3)\n",
    "    pool3 = MaxPooling2D(pool_size=(2, 2))(bn3)\n",
    "\n",
    "    conv4 = Conv2D(512, (3, 3), padding='same')(pool3)\n",
    "    bn4 = Activation('relu')(conv4)\n",
    "    conv4 = Conv2D(512, (3, 3), padding='same')(bn4)\n",
    "    bn4 = BatchNormalization(axis=3)(conv4)\n",
    "    bn4 = Activation('relu')(bn4)\n",
    "    pool4 = MaxPooling2D(pool_size=(2, 2))(bn4)\n",
    "\n",
    "    conv5 = Conv2D(1024, (3, 3), padding='same')(pool4)\n",
    "    bn5 = Activation('relu')(conv5)\n",
    "    conv5 = Conv2D(1024, (3, 3), padding='same')(bn5)\n",
    "    bn5 = BatchNormalization(axis=3)(conv5)\n",
    "    bn5 = Activation('relu')(bn5)\n",
    "\n",
    "    up6 = concatenate([Conv2DTranspose(512, (2, 2), strides=(2, 2), padding='same')(bn5), conv4], axis=3)\n",
    "    conv6 = Conv2D(512, (3, 3), padding='same')(up6)\n",
    "    bn6 = Activation('relu')(conv6)\n",
    "    conv6 = Conv2D(512, (3, 3), padding='same')(bn6)\n",
    "    bn6 = BatchNormalization(axis=3)(conv6)\n",
    "    bn6 = Activation('relu')(bn6)\n",
    "\n",
    "    up7 = concatenate([Conv2DTranspose(256, (2, 2), strides=(2, 2), padding='same')(bn6), conv3], axis=3)\n",
    "    conv7 = Conv2D(256, (3, 3), padding='same')(up7)\n",
    "    bn7 = Activation('relu')(conv7)\n",
    "    conv7 = Conv2D(256, (3, 3), padding='same')(bn7)\n",
    "    bn7 = BatchNormalization(axis=3)(conv7)\n",
    "    bn7 = Activation('relu')(bn7)\n",
    "\n",
    "    up8 = concatenate([Conv2DTranspose(128, (2, 2), strides=(2, 2), padding='same')(bn7), conv2], axis=3)\n",
    "    conv8 = Conv2D(128, (3, 3), padding='same')(up8)\n",
    "    bn8 = Activation('relu')(conv8)\n",
    "    conv8 = Conv2D(128, (3, 3), padding='same')(bn8)\n",
    "    bn8 = BatchNormalization(axis=3)(conv8)\n",
    "    bn8 = Activation('relu')(bn8)\n",
    "\n",
    "    up9 = concatenate([Conv2DTranspose(64, (2, 2), strides=(2, 2), padding='same')(bn8), conv1], axis=3)\n",
    "    conv9 = Conv2D(64, (3, 3), padding='same')(up9)\n",
    "    bn9 = Activation('relu')(conv9)\n",
    "    conv9 = Conv2D(64, (3, 3), padding='same')(bn9)\n",
    "    bn9 = BatchNormalization(axis=3)(conv9)\n",
    "    bn9 = Activation('relu')(bn9)\n",
    "\n",
    "    conv10 = Conv2D(1, (1, 1), activation='sigmoid')(bn9)\n",
    "\n",
    "    return Model(inputs=[inputs], outputs=[conv10])"
   ]
  },
  {
   "cell_type": "code",
   "execution_count": 11,
   "metadata": {
    "execution": {
     "iopub.execute_input": "2023-01-30T14:36:58.608698Z",
     "iopub.status.busy": "2023-01-30T14:36:58.608111Z",
     "iopub.status.idle": "2023-01-30T14:37:01.625650Z",
     "shell.execute_reply": "2023-01-30T14:37:01.624696Z",
     "shell.execute_reply.started": "2023-01-30T14:36:58.608658Z"
    },
    "executionInfo": {
     "elapsed": 432,
     "status": "ok",
     "timestamp": 1651827645882,
     "user": {
      "displayName": "Quang 9 Doan",
      "userId": "16992828409336388600"
     },
     "user_tz": -420
    },
    "id": "zRxgs0U7Mbna"
   },
   "outputs": [
    {
     "name": "stderr",
     "output_type": "stream",
     "text": [
      "2023-01-30 14:36:58.708923: I tensorflow/stream_executor/cuda/cuda_gpu_executor.cc:937] successful NUMA node read from SysFS had negative value (-1), but there must be at least one NUMA node, so returning NUMA node zero\n",
      "2023-01-30 14:36:58.845582: I tensorflow/stream_executor/cuda/cuda_gpu_executor.cc:937] successful NUMA node read from SysFS had negative value (-1), but there must be at least one NUMA node, so returning NUMA node zero\n",
      "2023-01-30 14:36:58.846416: I tensorflow/stream_executor/cuda/cuda_gpu_executor.cc:937] successful NUMA node read from SysFS had negative value (-1), but there must be at least one NUMA node, so returning NUMA node zero\n",
      "2023-01-30 14:36:58.847570: I tensorflow/core/platform/cpu_feature_guard.cc:142] This TensorFlow binary is optimized with oneAPI Deep Neural Network Library (oneDNN) to use the following CPU instructions in performance-critical operations:  AVX2 AVX512F FMA\n",
      "To enable them in other operations, rebuild TensorFlow with the appropriate compiler flags.\n",
      "2023-01-30 14:36:58.847904: I tensorflow/stream_executor/cuda/cuda_gpu_executor.cc:937] successful NUMA node read from SysFS had negative value (-1), but there must be at least one NUMA node, so returning NUMA node zero\n",
      "2023-01-30 14:36:58.848624: I tensorflow/stream_executor/cuda/cuda_gpu_executor.cc:937] successful NUMA node read from SysFS had negative value (-1), but there must be at least one NUMA node, so returning NUMA node zero\n",
      "2023-01-30 14:36:58.849262: I tensorflow/stream_executor/cuda/cuda_gpu_executor.cc:937] successful NUMA node read from SysFS had negative value (-1), but there must be at least one NUMA node, so returning NUMA node zero\n",
      "2023-01-30 14:37:00.984967: I tensorflow/stream_executor/cuda/cuda_gpu_executor.cc:937] successful NUMA node read from SysFS had negative value (-1), but there must be at least one NUMA node, so returning NUMA node zero\n",
      "2023-01-30 14:37:00.985843: I tensorflow/stream_executor/cuda/cuda_gpu_executor.cc:937] successful NUMA node read from SysFS had negative value (-1), but there must be at least one NUMA node, so returning NUMA node zero\n",
      "2023-01-30 14:37:00.986539: I tensorflow/stream_executor/cuda/cuda_gpu_executor.cc:937] successful NUMA node read from SysFS had negative value (-1), but there must be at least one NUMA node, so returning NUMA node zero\n",
      "2023-01-30 14:37:00.987994: I tensorflow/core/common_runtime/gpu/gpu_device.cc:1510] Created device /job:localhost/replica:0/task:0/device:GPU:0 with 15403 MB memory:  -> device: 0, name: Tesla P100-PCIE-16GB, pci bus id: 0000:00:04.0, compute capability: 6.0\n"
     ]
    }
   ],
   "source": [
    "model = att_unet()\n",
    "# model.summary()"
   ]
  },
  {
   "cell_type": "markdown",
   "metadata": {
    "id": "yg7rSoybMbnb"
   },
   "source": [
    "# **Training**"
   ]
  },
  {
   "cell_type": "code",
   "execution_count": 31,
   "metadata": {
    "execution": {
     "iopub.execute_input": "2023-01-31T02:36:51.420461Z",
     "iopub.status.busy": "2023-01-31T02:36:51.420177Z",
     "iopub.status.idle": "2023-01-31T02:36:52.088893Z",
     "shell.execute_reply": "2023-01-31T02:36:52.088151Z",
     "shell.execute_reply.started": "2023-01-31T02:36:51.420431Z"
    },
    "executionInfo": {
     "elapsed": 424,
     "status": "ok",
     "timestamp": 1651827659580,
     "user": {
      "displayName": "Quang 9 Doan",
      "userId": "16992828409336388600"
     },
     "user_tz": -420
    },
    "id": "tiK3ldg1Mbnb"
   },
   "outputs": [],
   "source": [
    "# EPOCHS = 30\n",
    "# BATCH_SIZE = 16\n",
    "# learning_rate = 1e-4\n",
    "\n",
    "EPOCHS = 100\n",
    "BATCH_SIZE = 32\n",
    "learning_rate = 1e-4\n",
    "model = unet_plus()"
   ]
  },
  {
   "cell_type": "code",
   "execution_count": null,
   "metadata": {
    "execution": {
     "iopub.status.busy": "2023-01-30T01:50:30.544626Z",
     "iopub.status.idle": "2023-01-30T01:50:30.545021Z",
     "shell.execute_reply": "2023-01-30T01:50:30.544826Z",
     "shell.execute_reply.started": "2023-01-30T01:50:30.544804Z"
    },
    "executionInfo": {
     "elapsed": 4,
     "status": "ok",
     "timestamp": 1651827510777,
     "user": {
      "displayName": "Quang 9 Doan",
      "userId": "16992828409336388600"
     },
     "user_tz": -420
    },
    "id": "iqYg-dxhPGob",
    "outputId": "5020edd5-470f-4d05-f6fe-4787dba7fbfc"
   },
   "outputs": [],
   "source": [
    "len(df_val)/BATCH_SIZE"
   ]
  },
  {
   "cell_type": "code",
   "execution_count": 32,
   "metadata": {
    "execution": {
     "iopub.execute_input": "2023-01-31T02:36:55.024112Z",
     "iopub.status.busy": "2023-01-31T02:36:55.023768Z",
     "iopub.status.idle": "2023-01-31T04:52:04.476717Z",
     "shell.execute_reply": "2023-01-31T04:52:04.475831Z",
     "shell.execute_reply.started": "2023-01-31T02:36:55.024077Z"
    },
    "executionInfo": {
     "elapsed": 10195242,
     "status": "ok",
     "timestamp": 1651849427169,
     "user": {
      "displayName": "Quang 9 Doan",
      "userId": "16992828409336388600"
     },
     "user_tz": -420
    },
    "id": "ePHNt8_mMbnb",
    "outputId": "3df55fea-40ca-46c3-dd0e-4953baf6e7d0"
   },
   "outputs": [
    {
     "name": "stdout",
     "output_type": "stream",
     "text": [
      "Found 2749 validated image filenames.\n",
      "Found 2749 validated image filenames.\n"
     ]
    },
    {
     "name": "stderr",
     "output_type": "stream",
     "text": [
      "2023-01-31 02:36:58.219759: I tensorflow/compiler/mlir/mlir_graph_optimization_pass.cc:185] None of the MLIR Optimization Passes are enabled (registered 2)\n"
     ]
    },
    {
     "name": "stdout",
     "output_type": "stream",
     "text": [
      "Epoch 1/100\n"
     ]
    },
    {
     "name": "stderr",
     "output_type": "stream",
     "text": [
      "2023-01-31 02:37:04.200389: I tensorflow/stream_executor/cuda/cuda_dnn.cc:369] Loaded cuDNN version 8005\n",
      "2023-01-31 02:37:11.742058: W tensorflow/core/common_runtime/bfc_allocator.cc:272] Allocator (GPU_0_bfc) ran out of memory trying to allocate 3.39GiB with freed_by_count=0. The caller indicates that this is not a failure, but may mean that there could be performance gains if more memory were available.\n"
     ]
    },
    {
     "name": "stdout",
     "output_type": "stream",
     "text": [
      "86/85 [==============================] - ETA: 0s - loss: -0.1896 - iou: 0.1096 - dice_coef: 0.1898 - precision: 0.3443 - recall: 0.6802 - specificity: 0.9136Found 590 validated image filenames.\n",
      "Found 590 validated image filenames.\n",
      "85/85 [==============================] - 123s 1s/step - loss: -0.1896 - iou: 0.1096 - dice_coef: 0.1898 - precision: 0.3443 - recall: 0.6802 - specificity: 0.9136 - val_loss: -0.0229 - val_iou: 0.0117 - val_dice_coef: 0.0227 - val_precision: 0.0000e+00 - val_recall: 0.0000e+00 - val_specificity: 1.0000\n",
      "\n",
      "Epoch 00001: val_dice_coef improved from -inf to 0.02266, saving model to best_model.hdf5\n",
      "Epoch 2/100\n",
      "85/85 [==============================] - 80s 933ms/step - loss: -0.3445 - iou: 0.2125 - dice_coef: 0.3443 - precision: 0.5819 - recall: 0.6784 - specificity: 0.9940 - val_loss: -0.0163 - val_iou: 0.0089 - val_dice_coef: 0.0163 - val_precision: 0.0526 - val_recall: 1.6339e-06 - val_specificity: 1.0000\n",
      "\n",
      "Epoch 00002: val_dice_coef did not improve from 0.02266\n",
      "Epoch 3/100\n",
      "85/85 [==============================] - 81s 943ms/step - loss: -0.4022 - iou: 0.2568 - dice_coef: 0.4023 - precision: 0.6445 - recall: 0.6929 - specificity: 0.9955 - val_loss: -0.1358 - val_iou: 0.0736 - val_dice_coef: 0.1340 - val_precision: 0.9666 - val_recall: 0.1903 - val_specificity: 0.9999\n",
      "\n",
      "Epoch 00003: val_dice_coef improved from 0.02266 to 0.13401, saving model to best_model.hdf5\n",
      "Epoch 4/100\n",
      "85/85 [==============================] - 81s 946ms/step - loss: -0.4504 - iou: 0.2961 - dice_coef: 0.4506 - precision: 0.6799 - recall: 0.7036 - specificity: 0.9964 - val_loss: -0.3395 - val_iou: 0.2091 - val_dice_coef: 0.3372 - val_precision: 0.8608 - val_recall: 0.4473 - val_specificity: 0.9992\n",
      "\n",
      "Epoch 00004: val_dice_coef improved from 0.13401 to 0.33725, saving model to best_model.hdf5\n",
      "Epoch 5/100\n",
      "85/85 [==============================] - 80s 928ms/step - loss: -0.4900 - iou: 0.3315 - dice_coef: 0.4902 - precision: 0.6990 - recall: 0.7117 - specificity: 0.9968 - val_loss: -0.4315 - val_iou: 0.2831 - val_dice_coef: 0.4362 - val_precision: 0.8009 - val_recall: 0.5905 - val_specificity: 0.9985\n",
      "\n",
      "Epoch 00005: val_dice_coef improved from 0.33725 to 0.43617, saving model to best_model.hdf5\n",
      "Epoch 6/100\n",
      "85/85 [==============================] - 80s 935ms/step - loss: -0.5343 - iou: 0.3717 - dice_coef: 0.5341 - precision: 0.7206 - recall: 0.7292 - specificity: 0.9971 - val_loss: -0.4972 - val_iou: 0.3320 - val_dice_coef: 0.4857 - val_precision: 0.8263 - val_recall: 0.5926 - val_specificity: 0.9989\n",
      "\n",
      "Epoch 00006: val_dice_coef improved from 0.43617 to 0.48571, saving model to best_model.hdf5\n",
      "Epoch 7/100\n",
      "85/85 [==============================] - 81s 943ms/step - loss: -0.5571 - iou: 0.3930 - dice_coef: 0.5572 - precision: 0.7307 - recall: 0.7311 - specificity: 0.9973 - val_loss: -0.5582 - val_iou: 0.3944 - val_dice_coef: 0.5598 - val_precision: 0.7393 - val_recall: 0.7128 - val_specificity: 0.9971\n",
      "\n",
      "Epoch 00007: val_dice_coef improved from 0.48571 to 0.55977, saving model to best_model.hdf5\n",
      "Epoch 8/100\n",
      "85/85 [==============================] - 81s 939ms/step - loss: -0.5962 - iou: 0.4303 - dice_coef: 0.5961 - precision: 0.7631 - recall: 0.7349 - specificity: 0.9976 - val_loss: -0.5929 - val_iou: 0.4321 - val_dice_coef: 0.5977 - val_precision: 0.7927 - val_recall: 0.7304 - val_specificity: 0.9983\n",
      "\n",
      "Epoch 00008: val_dice_coef improved from 0.55977 to 0.59769, saving model to best_model.hdf5\n",
      "Epoch 9/100\n",
      "85/85 [==============================] - 81s 943ms/step - loss: -0.6192 - iou: 0.4584 - dice_coef: 0.6189 - precision: 0.7634 - recall: 0.7471 - specificity: 0.9977 - val_loss: -0.6197 - val_iou: 0.4524 - val_dice_coef: 0.6172 - val_precision: 0.8397 - val_recall: 0.6832 - val_specificity: 0.9986\n",
      "\n",
      "Epoch 00009: val_dice_coef improved from 0.59769 to 0.61721, saving model to best_model.hdf5\n",
      "Epoch 10/100\n",
      "85/85 [==============================] - 80s 928ms/step - loss: -0.6459 - iou: 0.4857 - dice_coef: 0.6459 - precision: 0.7777 - recall: 0.7513 - specificity: 0.9978 - val_loss: -0.6131 - val_iou: 0.4557 - val_dice_coef: 0.6171 - val_precision: 0.7349 - val_recall: 0.6847 - val_specificity: 0.9976\n",
      "\n",
      "Epoch 00010: val_dice_coef did not improve from 0.61721\n",
      "Epoch 11/100\n",
      "85/85 [==============================] - 81s 942ms/step - loss: -0.6562 - iou: 0.4952 - dice_coef: 0.6560 - precision: 0.7832 - recall: 0.7504 - specificity: 0.9979 - val_loss: -0.6389 - val_iou: 0.4687 - val_dice_coef: 0.6326 - val_precision: 0.8873 - val_recall: 0.5766 - val_specificity: 0.9993\n",
      "\n",
      "Epoch 00011: val_dice_coef improved from 0.61721 to 0.63258, saving model to best_model.hdf5\n",
      "Epoch 12/100\n",
      "85/85 [==============================] - 80s 937ms/step - loss: -0.6934 - iou: 0.5373 - dice_coef: 0.6934 - precision: 0.8096 - recall: 0.7645 - specificity: 0.9982 - val_loss: -0.7096 - val_iou: 0.5489 - val_dice_coef: 0.7044 - val_precision: 0.8081 - val_recall: 0.7684 - val_specificity: 0.9981\n",
      "\n",
      "Epoch 00012: val_dice_coef improved from 0.63258 to 0.70443, saving model to best_model.hdf5\n",
      "Epoch 13/100\n",
      "85/85 [==============================] - 81s 947ms/step - loss: -0.7210 - iou: 0.5695 - dice_coef: 0.7211 - precision: 0.8187 - recall: 0.7886 - specificity: 0.9983 - val_loss: -0.6975 - val_iou: 0.5471 - val_dice_coef: 0.7005 - val_precision: 0.8405 - val_recall: 0.7377 - val_specificity: 0.9985\n",
      "\n",
      "Epoch 00013: val_dice_coef did not improve from 0.70443\n",
      "Epoch 14/100\n",
      "85/85 [==============================] - 81s 941ms/step - loss: -0.7315 - iou: 0.5829 - dice_coef: 0.7313 - precision: 0.8220 - recall: 0.7889 - specificity: 0.9983 - val_loss: -0.7010 - val_iou: 0.5379 - val_dice_coef: 0.6940 - val_precision: 0.7688 - val_recall: 0.7904 - val_specificity: 0.9977\n",
      "\n",
      "Epoch 00014: val_dice_coef did not improve from 0.70443\n",
      "Epoch 15/100\n",
      "85/85 [==============================] - 79s 921ms/step - loss: -0.7430 - iou: 0.5987 - dice_coef: 0.7430 - precision: 0.8294 - recall: 0.7947 - specificity: 0.9983 - val_loss: -0.7247 - val_iou: 0.5643 - val_dice_coef: 0.7165 - val_precision: 0.8040 - val_recall: 0.7524 - val_specificity: 0.9981\n",
      "\n",
      "Epoch 00015: val_dice_coef improved from 0.70443 to 0.71649, saving model to best_model.hdf5\n",
      "Epoch 16/100\n",
      "85/85 [==============================] - 79s 921ms/step - loss: -0.7600 - iou: 0.6186 - dice_coef: 0.7600 - precision: 0.8393 - recall: 0.8023 - specificity: 0.9985 - val_loss: -0.7210 - val_iou: 0.5719 - val_dice_coef: 0.7226 - val_precision: 0.7738 - val_recall: 0.8387 - val_specificity: 0.9976\n",
      "\n",
      "Epoch 00016: val_dice_coef improved from 0.71649 to 0.72265, saving model to best_model.hdf5\n",
      "Epoch 17/100\n",
      "85/85 [==============================] - 80s 937ms/step - loss: -0.7592 - iou: 0.6173 - dice_coef: 0.7591 - precision: 0.8307 - recall: 0.8014 - specificity: 0.9983 - val_loss: -0.7220 - val_iou: 0.5758 - val_dice_coef: 0.7248 - val_precision: 0.9018 - val_recall: 0.6641 - val_specificity: 0.9993\n",
      "\n",
      "Epoch 00017: val_dice_coef improved from 0.72265 to 0.72479, saving model to best_model.hdf5\n",
      "Epoch 18/100\n",
      "85/85 [==============================] - 81s 944ms/step - loss: -0.7743 - iou: 0.6381 - dice_coef: 0.7743 - precision: 0.8435 - recall: 0.8034 - specificity: 0.9985 - val_loss: -0.7360 - val_iou: 0.5884 - val_dice_coef: 0.7376 - val_precision: 0.8432 - val_recall: 0.7536 - val_specificity: 0.9985\n",
      "\n",
      "Epoch 00018: val_dice_coef improved from 0.72479 to 0.73762, saving model to best_model.hdf5\n",
      "Epoch 19/100\n",
      "85/85 [==============================] - 81s 941ms/step - loss: -0.7813 - iou: 0.6508 - dice_coef: 0.7814 - precision: 0.8446 - recall: 0.8145 - specificity: 0.9986 - val_loss: -0.7360 - val_iou: 0.5892 - val_dice_coef: 0.7357 - val_precision: 0.8952 - val_recall: 0.6788 - val_specificity: 0.9992\n",
      "\n",
      "Epoch 00019: val_dice_coef did not improve from 0.73762\n",
      "Epoch 20/100\n",
      "85/85 [==============================] - 81s 943ms/step - loss: -0.7843 - iou: 0.6532 - dice_coef: 0.7844 - precision: 0.8482 - recall: 0.8082 - specificity: 0.9986 - val_loss: -0.7725 - val_iou: 0.6373 - val_dice_coef: 0.7744 - val_precision: 0.8955 - val_recall: 0.7241 - val_specificity: 0.9992\n",
      "\n",
      "Epoch 00020: val_dice_coef improved from 0.73762 to 0.77439, saving model to best_model.hdf5\n",
      "Epoch 21/100\n",
      "85/85 [==============================] - 79s 926ms/step - loss: -0.8026 - iou: 0.6766 - dice_coef: 0.8026 - precision: 0.8563 - recall: 0.8242 - specificity: 0.9987 - val_loss: -0.7643 - val_iou: 0.6269 - val_dice_coef: 0.7653 - val_precision: 0.8466 - val_recall: 0.7608 - val_specificity: 0.9986\n",
      "\n",
      "Epoch 00021: val_dice_coef did not improve from 0.77439\n",
      "Epoch 22/100\n",
      "85/85 [==============================] - 81s 947ms/step - loss: -0.8072 - iou: 0.6827 - dice_coef: 0.8073 - precision: 0.8570 - recall: 0.8258 - specificity: 0.9986 - val_loss: -0.7824 - val_iou: 0.6441 - val_dice_coef: 0.7806 - val_precision: 0.8692 - val_recall: 0.7699 - val_specificity: 0.9989\n",
      "\n",
      "Epoch 00022: val_dice_coef improved from 0.77439 to 0.78062, saving model to best_model.hdf5\n",
      "Epoch 23/100\n",
      "85/85 [==============================] - 79s 924ms/step - loss: -0.8148 - iou: 0.6934 - dice_coef: 0.8148 - precision: 0.8644 - recall: 0.8265 - specificity: 0.9987 - val_loss: -0.7940 - val_iou: 0.6572 - val_dice_coef: 0.7885 - val_precision: 0.8535 - val_recall: 0.7780 - val_specificity: 0.9987\n",
      "\n",
      "Epoch 00023: val_dice_coef improved from 0.78062 to 0.78851, saving model to best_model.hdf5\n",
      "Epoch 24/100\n",
      "85/85 [==============================] - 80s 932ms/step - loss: -0.8189 - iou: 0.6991 - dice_coef: 0.8189 - precision: 0.8674 - recall: 0.8270 - specificity: 0.9988 - val_loss: -0.7962 - val_iou: 0.6581 - val_dice_coef: 0.7887 - val_precision: 0.8411 - val_recall: 0.7927 - val_specificity: 0.9985\n",
      "\n",
      "Epoch 00024: val_dice_coef improved from 0.78851 to 0.78873, saving model to best_model.hdf5\n",
      "Epoch 25/100\n",
      "85/85 [==============================] - 79s 927ms/step - loss: -0.8272 - iou: 0.7103 - dice_coef: 0.8273 - precision: 0.8679 - recall: 0.8378 - specificity: 0.9987 - val_loss: -0.7890 - val_iou: 0.6574 - val_dice_coef: 0.7908 - val_precision: 0.8074 - val_recall: 0.8356 - val_specificity: 0.9981\n",
      "\n",
      "Epoch 00025: val_dice_coef improved from 0.78873 to 0.79081, saving model to best_model.hdf5\n",
      "Epoch 26/100\n",
      "85/85 [==============================] - 82s 958ms/step - loss: -0.8203 - iou: 0.7051 - dice_coef: 0.8204 - precision: 0.8660 - recall: 0.8289 - specificity: 0.9988 - val_loss: -0.7944 - val_iou: 0.6646 - val_dice_coef: 0.7938 - val_precision: 0.8483 - val_recall: 0.7858 - val_specificity: 0.9986\n",
      "\n",
      "Epoch 00026: val_dice_coef improved from 0.79081 to 0.79375, saving model to best_model.hdf5\n",
      "Epoch 27/100\n",
      "85/85 [==============================] - 86s 1s/step - loss: -0.8281 - iou: 0.7120 - dice_coef: 0.8281 - precision: 0.8715 - recall: 0.8314 - specificity: 0.9988 - val_loss: -0.7900 - val_iou: 0.6601 - val_dice_coef: 0.7913 - val_precision: 0.8531 - val_recall: 0.7694 - val_specificity: 0.9986\n",
      "\n",
      "Epoch 00027: val_dice_coef did not improve from 0.79375\n",
      "Epoch 28/100\n",
      "85/85 [==============================] - 83s 972ms/step - loss: -0.8381 - iou: 0.7279 - dice_coef: 0.8381 - precision: 0.8753 - recall: 0.8414 - specificity: 0.9988 - val_loss: -0.8007 - val_iou: 0.6721 - val_dice_coef: 0.8000 - val_precision: 0.8594 - val_recall: 0.7778 - val_specificity: 0.9986\n",
      "\n",
      "Epoch 00028: val_dice_coef improved from 0.79375 to 0.80001, saving model to best_model.hdf5\n",
      "Epoch 29/100\n",
      "85/85 [==============================] - 84s 976ms/step - loss: -0.8361 - iou: 0.7257 - dice_coef: 0.8361 - precision: 0.8700 - recall: 0.8411 - specificity: 0.9987 - val_loss: -0.8256 - val_iou: 0.7063 - val_dice_coef: 0.8259 - val_precision: 0.8877 - val_recall: 0.8011 - val_specificity: 0.9989\n",
      "\n",
      "Epoch 00029: val_dice_coef improved from 0.80001 to 0.82591, saving model to best_model.hdf5\n",
      "Epoch 30/100\n",
      "85/85 [==============================] - 82s 961ms/step - loss: -0.8347 - iou: 0.7257 - dice_coef: 0.8347 - precision: 0.8695 - recall: 0.8363 - specificity: 0.9987 - val_loss: -0.8118 - val_iou: 0.6898 - val_dice_coef: 0.8133 - val_precision: 0.8352 - val_recall: 0.8239 - val_specificity: 0.9985\n",
      "\n",
      "Epoch 00030: val_dice_coef did not improve from 0.82591\n",
      "Epoch 31/100\n",
      "85/85 [==============================] - 81s 945ms/step - loss: -0.8412 - iou: 0.7325 - dice_coef: 0.8412 - precision: 0.8752 - recall: 0.8425 - specificity: 0.9988 - val_loss: -0.7973 - val_iou: 0.6691 - val_dice_coef: 0.7977 - val_precision: 0.8963 - val_recall: 0.7450 - val_specificity: 0.9991\n",
      "\n",
      "Epoch 00031: val_dice_coef did not improve from 0.82591\n",
      "Epoch 32/100\n",
      "85/85 [==============================] - 80s 938ms/step - loss: -0.8464 - iou: 0.7384 - dice_coef: 0.8464 - precision: 0.8807 - recall: 0.8428 - specificity: 0.9989 - val_loss: -0.8225 - val_iou: 0.7057 - val_dice_coef: 0.8244 - val_precision: 0.8645 - val_recall: 0.8209 - val_specificity: 0.9986\n",
      "\n",
      "Epoch 00032: val_dice_coef did not improve from 0.82591\n",
      "Epoch 33/100\n",
      "85/85 [==============================] - 80s 936ms/step - loss: -0.8499 - iou: 0.7443 - dice_coef: 0.8498 - precision: 0.8798 - recall: 0.8518 - specificity: 0.9988 - val_loss: -0.8078 - val_iou: 0.6846 - val_dice_coef: 0.8085 - val_precision: 0.9142 - val_recall: 0.7447 - val_specificity: 0.9992\n",
      "\n",
      "Epoch 00033: val_dice_coef did not improve from 0.82591\n",
      "Epoch 34/100\n",
      "85/85 [==============================] - 81s 940ms/step - loss: -0.8511 - iou: 0.7482 - dice_coef: 0.8511 - precision: 0.8837 - recall: 0.8468 - specificity: 0.9990 - val_loss: -0.8267 - val_iou: 0.7036 - val_dice_coef: 0.8229 - val_precision: 0.8536 - val_recall: 0.8290 - val_specificity: 0.9987\n",
      "\n",
      "Epoch 00034: val_dice_coef did not improve from 0.82591\n",
      "Epoch 35/100\n",
      "85/85 [==============================] - 80s 936ms/step - loss: -0.8590 - iou: 0.7570 - dice_coef: 0.8590 - precision: 0.8886 - recall: 0.8560 - specificity: 0.9989 - val_loss: -0.8232 - val_iou: 0.6981 - val_dice_coef: 0.8184 - val_precision: 0.8754 - val_recall: 0.7913 - val_specificity: 0.9988\n",
      "\n",
      "Epoch 00035: val_dice_coef did not improve from 0.82591\n",
      "Epoch 36/100\n",
      "85/85 [==============================] - 81s 942ms/step - loss: -0.8508 - iou: 0.7443 - dice_coef: 0.8508 - precision: 0.8819 - recall: 0.8477 - specificity: 0.9988 - val_loss: -0.8275 - val_iou: 0.7066 - val_dice_coef: 0.8258 - val_precision: 0.8379 - val_recall: 0.8361 - val_specificity: 0.9983\n",
      "\n",
      "Epoch 00036: val_dice_coef did not improve from 0.82591\n",
      "Epoch 37/100\n",
      "85/85 [==============================] - 82s 953ms/step - loss: -0.8535 - iou: 0.7496 - dice_coef: 0.8535 - precision: 0.8843 - recall: 0.8475 - specificity: 0.9989 - val_loss: -0.8170 - val_iou: 0.6877 - val_dice_coef: 0.8108 - val_precision: 0.8767 - val_recall: 0.7788 - val_specificity: 0.9990\n",
      "\n",
      "Epoch 00037: val_dice_coef did not improve from 0.82591\n",
      "Epoch 38/100\n",
      "85/85 [==============================] - 82s 956ms/step - loss: -0.8490 - iou: 0.7430 - dice_coef: 0.8490 - precision: 0.8784 - recall: 0.8441 - specificity: 0.9989 - val_loss: -0.8146 - val_iou: 0.6985 - val_dice_coef: 0.8172 - val_precision: 0.9155 - val_recall: 0.7533 - val_specificity: 0.9993\n",
      "\n",
      "Epoch 00038: val_dice_coef did not improve from 0.82591\n",
      "Epoch 39/100\n",
      "85/85 [==============================] - 80s 933ms/step - loss: -0.8581 - iou: 0.7556 - dice_coef: 0.8581 - precision: 0.8883 - recall: 0.8515 - specificity: 0.9989 - val_loss: -0.7988 - val_iou: 0.6688 - val_dice_coef: 0.7977 - val_precision: 0.9093 - val_recall: 0.7283 - val_specificity: 0.9993\n",
      "\n",
      "Epoch 00039: val_dice_coef did not improve from 0.82591\n",
      "Epoch 40/100\n",
      "85/85 [==============================] - 84s 978ms/step - loss: -0.8712 - iou: 0.7748 - dice_coef: 0.8712 - precision: 0.8953 - recall: 0.8660 - specificity: 0.9990 - val_loss: -0.8398 - val_iou: 0.7302 - val_dice_coef: 0.8420 - val_precision: 0.8745 - val_recall: 0.8312 - val_specificity: 0.9988\n",
      "\n",
      "Epoch 00040: val_dice_coef improved from 0.82591 to 0.84202, saving model to best_model.hdf5\n",
      "Epoch 41/100\n",
      "85/85 [==============================] - 83s 962ms/step - loss: -0.8729 - iou: 0.7774 - dice_coef: 0.8729 - precision: 0.8961 - recall: 0.8688 - specificity: 0.9990 - val_loss: -0.8263 - val_iou: 0.7127 - val_dice_coef: 0.8294 - val_precision: 0.9293 - val_recall: 0.7599 - val_specificity: 0.9994\n",
      "\n",
      "Epoch 00041: val_dice_coef did not improve from 0.84202\n",
      "Epoch 42/100\n",
      "85/85 [==============================] - 80s 937ms/step - loss: -0.8678 - iou: 0.7700 - dice_coef: 0.8679 - precision: 0.8916 - recall: 0.8623 - specificity: 0.9989 - val_loss: -0.8382 - val_iou: 0.7288 - val_dice_coef: 0.8409 - val_precision: 0.8649 - val_recall: 0.8349 - val_specificity: 0.9986\n",
      "\n",
      "Epoch 00042: val_dice_coef did not improve from 0.84202\n",
      "Epoch 43/100\n",
      "85/85 [==============================] - 81s 950ms/step - loss: -0.8661 - iou: 0.7693 - dice_coef: 0.8661 - precision: 0.8928 - recall: 0.8576 - specificity: 0.9990 - val_loss: -0.8266 - val_iou: 0.7056 - val_dice_coef: 0.8228 - val_precision: 0.8428 - val_recall: 0.8305 - val_specificity: 0.9984\n",
      "\n",
      "Epoch 00043: val_dice_coef did not improve from 0.84202\n",
      "Epoch 44/100\n",
      "85/85 [==============================] - 82s 959ms/step - loss: -0.8710 - iou: 0.7760 - dice_coef: 0.8710 - precision: 0.8960 - recall: 0.8631 - specificity: 0.9990 - val_loss: -0.8208 - val_iou: 0.7007 - val_dice_coef: 0.8207 - val_precision: 0.9200 - val_recall: 0.7515 - val_specificity: 0.9993\n",
      "\n",
      "Epoch 00044: val_dice_coef did not improve from 0.84202\n",
      "Epoch 45/100\n",
      "85/85 [==============================] - 82s 955ms/step - loss: -0.8720 - iou: 0.7782 - dice_coef: 0.8720 - precision: 0.8952 - recall: 0.8648 - specificity: 0.9990 - val_loss: -0.8514 - val_iou: 0.7422 - val_dice_coef: 0.8493 - val_precision: 0.8847 - val_recall: 0.8304 - val_specificity: 0.9990\n",
      "\n",
      "Epoch 00045: val_dice_coef improved from 0.84202 to 0.84932, saving model to best_model.hdf5\n",
      "Epoch 46/100\n",
      "85/85 [==============================] - 80s 937ms/step - loss: -0.8681 - iou: 0.7720 - dice_coef: 0.8681 - precision: 0.8908 - recall: 0.8614 - specificity: 0.9989 - val_loss: -0.8511 - val_iou: 0.7477 - val_dice_coef: 0.8533 - val_precision: 0.9037 - val_recall: 0.8204 - val_specificity: 0.9991\n",
      "\n",
      "Epoch 00046: val_dice_coef improved from 0.84932 to 0.85330, saving model to best_model.hdf5\n",
      "Epoch 47/100\n",
      "85/85 [==============================] - 81s 943ms/step - loss: -0.8761 - iou: 0.7836 - dice_coef: 0.8761 - precision: 0.9001 - recall: 0.8669 - specificity: 0.9990 - val_loss: -0.8436 - val_iou: 0.7306 - val_dice_coef: 0.8402 - val_precision: 0.8927 - val_recall: 0.8068 - val_specificity: 0.9990\n",
      "\n",
      "Epoch 00047: val_dice_coef did not improve from 0.85330\n",
      "Epoch 48/100\n",
      "85/85 [==============================] - 80s 929ms/step - loss: -0.8774 - iou: 0.7859 - dice_coef: 0.8774 - precision: 0.8995 - recall: 0.8684 - specificity: 0.9990 - val_loss: -0.8554 - val_iou: 0.7530 - val_dice_coef: 0.8573 - val_precision: 0.9042 - val_recall: 0.8261 - val_specificity: 0.9991\n",
      "\n",
      "Epoch 00048: val_dice_coef improved from 0.85330 to 0.85730, saving model to best_model.hdf5\n",
      "Epoch 49/100\n",
      "85/85 [==============================] - 82s 953ms/step - loss: -0.8715 - iou: 0.7795 - dice_coef: 0.8716 - precision: 0.8950 - recall: 0.8614 - specificity: 0.9990 - val_loss: -0.8464 - val_iou: 0.7377 - val_dice_coef: 0.8464 - val_precision: 0.8860 - val_recall: 0.8193 - val_specificity: 0.9989\n",
      "\n",
      "Epoch 00049: val_dice_coef did not improve from 0.85730\n",
      "Epoch 50/100\n",
      "85/85 [==============================] - 81s 947ms/step - loss: -0.8752 - iou: 0.7835 - dice_coef: 0.8753 - precision: 0.8986 - recall: 0.8645 - specificity: 0.9990 - val_loss: -0.8389 - val_iou: 0.7288 - val_dice_coef: 0.8401 - val_precision: 0.9169 - val_recall: 0.7856 - val_specificity: 0.9992\n",
      "\n",
      "Epoch 00050: val_dice_coef did not improve from 0.85730\n",
      "Epoch 51/100\n",
      "85/85 [==============================] - 82s 951ms/step - loss: -0.8796 - iou: 0.7888 - dice_coef: 0.8796 - precision: 0.9027 - recall: 0.8684 - specificity: 0.9991 - val_loss: -0.8570 - val_iou: 0.7537 - val_dice_coef: 0.8579 - val_precision: 0.8634 - val_recall: 0.8651 - val_specificity: 0.9985\n",
      "\n",
      "Epoch 00051: val_dice_coef improved from 0.85730 to 0.85788, saving model to best_model.hdf5\n",
      "Epoch 52/100\n",
      "85/85 [==============================] - 81s 940ms/step - loss: -0.8838 - iou: 0.7950 - dice_coef: 0.8838 - precision: 0.9045 - recall: 0.8735 - specificity: 0.9991 - val_loss: -0.8646 - val_iou: 0.7663 - val_dice_coef: 0.8659 - val_precision: 0.8834 - val_recall: 0.8617 - val_specificity: 0.9989\n",
      "\n",
      "Epoch 00052: val_dice_coef improved from 0.85788 to 0.86593, saving model to best_model.hdf5\n",
      "Epoch 53/100\n",
      "85/85 [==============================] - 81s 949ms/step - loss: -0.8816 - iou: 0.7938 - dice_coef: 0.8816 - precision: 0.9059 - recall: 0.8685 - specificity: 0.9991 - val_loss: -0.8525 - val_iou: 0.7391 - val_dice_coef: 0.8460 - val_precision: 0.8944 - val_recall: 0.8131 - val_specificity: 0.9991\n",
      "\n",
      "Epoch 00053: val_dice_coef did not improve from 0.86593\n",
      "Epoch 54/100\n",
      "85/85 [==============================] - 82s 951ms/step - loss: -0.8852 - iou: 0.7986 - dice_coef: 0.8851 - precision: 0.9079 - recall: 0.8726 - specificity: 0.9991 - val_loss: -0.8446 - val_iou: 0.7362 - val_dice_coef: 0.8456 - val_precision: 0.8750 - val_recall: 0.8275 - val_specificity: 0.9988\n",
      "\n",
      "Epoch 00054: val_dice_coef did not improve from 0.86593\n",
      "Epoch 55/100\n",
      "85/85 [==============================] - 81s 946ms/step - loss: -0.8848 - iou: 0.7970 - dice_coef: 0.8848 - precision: 0.9048 - recall: 0.8747 - specificity: 0.9991 - val_loss: -0.8517 - val_iou: 0.7450 - val_dice_coef: 0.8512 - val_precision: 0.9272 - val_recall: 0.7931 - val_specificity: 0.9994\n",
      "\n",
      "Epoch 00055: val_dice_coef did not improve from 0.86593\n",
      "Epoch 56/100\n",
      "85/85 [==============================] - 80s 936ms/step - loss: -0.8762 - iou: 0.7845 - dice_coef: 0.8762 - precision: 0.8979 - recall: 0.8642 - specificity: 0.9990 - val_loss: -0.8303 - val_iou: 0.7179 - val_dice_coef: 0.8332 - val_precision: 0.9103 - val_recall: 0.7730 - val_specificity: 0.9992\n",
      "\n",
      "Epoch 00056: val_dice_coef did not improve from 0.86593\n",
      "Epoch 57/100\n",
      "85/85 [==============================] - 79s 922ms/step - loss: -0.8615 - iou: 0.7607 - dice_coef: 0.8616 - precision: 0.8878 - recall: 0.8468 - specificity: 0.9989 - val_loss: -0.8514 - val_iou: 0.7452 - val_dice_coef: 0.8520 - val_precision: 0.8741 - val_recall: 0.8343 - val_specificity: 0.9988\n",
      "\n",
      "Epoch 00057: val_dice_coef did not improve from 0.86593\n",
      "Epoch 58/100\n",
      "85/85 [==============================] - 81s 946ms/step - loss: -0.8720 - iou: 0.7776 - dice_coef: 0.8721 - precision: 0.8962 - recall: 0.8589 - specificity: 0.9990 - val_loss: -0.8446 - val_iou: 0.7354 - val_dice_coef: 0.8459 - val_precision: 0.8657 - val_recall: 0.8370 - val_specificity: 0.9987\n",
      "\n",
      "Epoch 00058: val_dice_coef did not improve from 0.86593\n",
      "Epoch 59/100\n",
      "85/85 [==============================] - 80s 937ms/step - loss: -0.8799 - iou: 0.7900 - dice_coef: 0.8799 - precision: 0.9014 - recall: 0.8679 - specificity: 0.9991 - val_loss: -0.8478 - val_iou: 0.7431 - val_dice_coef: 0.8488 - val_precision: 0.9179 - val_recall: 0.7950 - val_specificity: 0.9993\n",
      "\n",
      "Epoch 00059: val_dice_coef did not improve from 0.86593\n",
      "Epoch 60/100\n",
      "85/85 [==============================] - 79s 923ms/step - loss: -0.8856 - iou: 0.7999 - dice_coef: 0.8856 - precision: 0.9059 - recall: 0.8732 - specificity: 0.9991 - val_loss: -0.8450 - val_iou: 0.7304 - val_dice_coef: 0.8422 - val_precision: 0.9160 - val_recall: 0.7868 - val_specificity: 0.9993\n",
      "\n",
      "Epoch 00060: val_dice_coef did not improve from 0.86593\n",
      "Epoch 61/100\n",
      "85/85 [==============================] - 80s 938ms/step - loss: -0.8892 - iou: 0.8037 - dice_coef: 0.8891 - precision: 0.9100 - recall: 0.8768 - specificity: 0.9991 - val_loss: -0.8692 - val_iou: 0.7741 - val_dice_coef: 0.8706 - val_precision: 0.8931 - val_recall: 0.8588 - val_specificity: 0.9989\n",
      "\n",
      "Epoch 00061: val_dice_coef improved from 0.86593 to 0.87057, saving model to best_model.hdf5\n",
      "Epoch 62/100\n",
      "85/85 [==============================] - 79s 924ms/step - loss: -0.8929 - iou: 0.8098 - dice_coef: 0.8929 - precision: 0.9137 - recall: 0.8795 - specificity: 0.9992 - val_loss: -0.8595 - val_iou: 0.7569 - val_dice_coef: 0.8602 - val_precision: 0.9025 - val_recall: 0.8285 - val_specificity: 0.9991\n",
      "\n",
      "Epoch 00062: val_dice_coef did not improve from 0.87057\n",
      "Epoch 63/100\n",
      "85/85 [==============================] - 79s 919ms/step - loss: -0.8854 - iou: 0.7979 - dice_coef: 0.8855 - precision: 0.9080 - recall: 0.8723 - specificity: 0.9991 - val_loss: -0.8429 - val_iou: 0.7331 - val_dice_coef: 0.8432 - val_precision: 0.8699 - val_recall: 0.8266 - val_specificity: 0.9986\n",
      "\n",
      "Epoch 00063: val_dice_coef did not improve from 0.87057\n",
      "Epoch 64/100\n",
      "85/85 [==============================] - 80s 931ms/step - loss: -0.8735 - iou: 0.7834 - dice_coef: 0.8735 - precision: 0.8966 - recall: 0.8594 - specificity: 0.9990 - val_loss: -0.8642 - val_iou: 0.7630 - val_dice_coef: 0.8630 - val_precision: 0.8850 - val_recall: 0.8490 - val_specificity: 0.9989\n",
      "\n",
      "Epoch 00064: val_dice_coef did not improve from 0.87057\n",
      "Epoch 65/100\n",
      "85/85 [==============================] - 79s 922ms/step - loss: -0.8868 - iou: 0.8011 - dice_coef: 0.8868 - precision: 0.9085 - recall: 0.8730 - specificity: 0.9991 - val_loss: -0.8616 - val_iou: 0.7576 - val_dice_coef: 0.8607 - val_precision: 0.9000 - val_recall: 0.8301 - val_specificity: 0.9991\n",
      "\n",
      "Epoch 00065: val_dice_coef did not improve from 0.87057\n",
      "Epoch 66/100\n",
      "85/85 [==============================] - 81s 948ms/step - loss: -0.8974 - iou: 0.8160 - dice_coef: 0.8973 - precision: 0.9156 - recall: 0.8861 - specificity: 0.9992 - val_loss: -0.8655 - val_iou: 0.7569 - val_dice_coef: 0.8570 - val_precision: 0.8766 - val_recall: 0.8449 - val_specificity: 0.9989\n",
      "\n",
      "Epoch 00066: val_dice_coef did not improve from 0.87057\n",
      "Epoch 67/100\n",
      "85/85 [==============================] - 82s 956ms/step - loss: -0.8893 - iou: 0.8042 - dice_coef: 0.8893 - precision: 0.9104 - recall: 0.8771 - specificity: 0.9992 - val_loss: -0.8528 - val_iou: 0.7487 - val_dice_coef: 0.8540 - val_precision: 0.8971 - val_recall: 0.8197 - val_specificity: 0.9990\n",
      "\n",
      "Epoch 00067: val_dice_coef did not improve from 0.87057\n",
      "Epoch 68/100\n",
      "85/85 [==============================] - 82s 953ms/step - loss: -0.8939 - iou: 0.8118 - dice_coef: 0.8940 - precision: 0.9131 - recall: 0.8806 - specificity: 0.9992 - val_loss: -0.8604 - val_iou: 0.7557 - val_dice_coef: 0.8589 - val_precision: 0.8930 - val_recall: 0.8326 - val_specificity: 0.9990\n",
      "\n",
      "Epoch 00068: val_dice_coef did not improve from 0.87057\n",
      "Epoch 69/100\n",
      "85/85 [==============================] - 79s 921ms/step - loss: -0.8899 - iou: 0.8070 - dice_coef: 0.8898 - precision: 0.9133 - recall: 0.8744 - specificity: 0.9992 - val_loss: -0.8542 - val_iou: 0.7451 - val_dice_coef: 0.8514 - val_precision: 0.8775 - val_recall: 0.8331 - val_specificity: 0.9988\n",
      "\n",
      "Epoch 00069: val_dice_coef did not improve from 0.87057\n",
      "Epoch 70/100\n",
      "85/85 [==============================] - 81s 944ms/step - loss: -0.8929 - iou: 0.8116 - dice_coef: 0.8929 - precision: 0.9131 - recall: 0.8796 - specificity: 0.9991 - val_loss: -0.8186 - val_iou: 0.6988 - val_dice_coef: 0.8192 - val_precision: 0.9008 - val_recall: 0.7600 - val_specificity: 0.9992\n",
      "\n",
      "Epoch 00070: val_dice_coef did not improve from 0.87057\n",
      "Epoch 71/100\n",
      "85/85 [==============================] - 80s 932ms/step - loss: -0.8967 - iou: 0.8153 - dice_coef: 0.8966 - precision: 0.9181 - recall: 0.8821 - specificity: 0.9992 - val_loss: -0.8671 - val_iou: 0.7672 - val_dice_coef: 0.8667 - val_precision: 0.8946 - val_recall: 0.8442 - val_specificity: 0.9989\n",
      "\n",
      "Epoch 00071: val_dice_coef did not improve from 0.87057\n",
      "Epoch 72/100\n",
      "85/85 [==============================] - 79s 918ms/step - loss: -0.8965 - iou: 0.8168 - dice_coef: 0.8965 - precision: 0.9151 - recall: 0.8832 - specificity: 0.9992 - val_loss: -0.8694 - val_iou: 0.7732 - val_dice_coef: 0.8705 - val_precision: 0.9045 - val_recall: 0.8448 - val_specificity: 0.9991\n",
      "\n",
      "Epoch 00072: val_dice_coef did not improve from 0.87057\n",
      "Epoch 73/100\n",
      "85/85 [==============================] - 80s 936ms/step - loss: -0.8946 - iou: 0.8128 - dice_coef: 0.8947 - precision: 0.9163 - recall: 0.8796 - specificity: 0.9992 - val_loss: -0.8559 - val_iou: 0.7557 - val_dice_coef: 0.8579 - val_precision: 0.8942 - val_recall: 0.8329 - val_specificity: 0.9990\n",
      "\n",
      "Epoch 00073: val_dice_coef did not improve from 0.87057\n",
      "Epoch 74/100\n",
      "85/85 [==============================] - 79s 921ms/step - loss: -0.8901 - iou: 0.8063 - dice_coef: 0.8901 - precision: 0.9118 - recall: 0.8774 - specificity: 0.9992 - val_loss: -0.8531 - val_iou: 0.7404 - val_dice_coef: 0.8475 - val_precision: 0.8873 - val_recall: 0.8165 - val_specificity: 0.9990\n",
      "\n",
      "Epoch 00074: val_dice_coef did not improve from 0.87057\n",
      "Epoch 75/100\n",
      "85/85 [==============================] - 80s 927ms/step - loss: -0.8943 - iou: 0.8128 - dice_coef: 0.8943 - precision: 0.9126 - recall: 0.8819 - specificity: 0.9992 - val_loss: -0.8638 - val_iou: 0.7579 - val_dice_coef: 0.8591 - val_precision: 0.8965 - val_recall: 0.8297 - val_specificity: 0.9990\n",
      "\n",
      "Epoch 00075: val_dice_coef did not improve from 0.87057\n",
      "Epoch 76/100\n",
      "85/85 [==============================] - 80s 936ms/step - loss: -0.8919 - iou: 0.8118 - dice_coef: 0.8919 - precision: 0.9146 - recall: 0.8767 - specificity: 0.9991 - val_loss: -0.8408 - val_iou: 0.7220 - val_dice_coef: 0.8281 - val_precision: 0.8493 - val_recall: 0.8141 - val_specificity: 0.9988\n",
      "\n",
      "Epoch 00076: val_dice_coef did not improve from 0.87057\n",
      "Epoch 77/100\n",
      "85/85 [==============================] - 81s 939ms/step - loss: -0.8994 - iou: 0.8203 - dice_coef: 0.8994 - precision: 0.9172 - recall: 0.8869 - specificity: 0.9992 - val_loss: -0.8614 - val_iou: 0.7634 - val_dice_coef: 0.8631 - val_precision: 0.8860 - val_recall: 0.8446 - val_specificity: 0.9989\n",
      "\n",
      "Epoch 00077: val_dice_coef did not improve from 0.87057\n",
      "Epoch 78/100\n",
      "85/85 [==============================] - 80s 932ms/step - loss: -0.8938 - iou: 0.8130 - dice_coef: 0.8938 - precision: 0.9135 - recall: 0.8799 - specificity: 0.9991 - val_loss: -0.8553 - val_iou: 0.7517 - val_dice_coef: 0.8554 - val_precision: 0.8837 - val_recall: 0.8332 - val_specificity: 0.9989\n",
      "\n",
      "Epoch 00078: val_dice_coef did not improve from 0.87057\n",
      "Epoch 79/100\n",
      "85/85 [==============================] - 81s 943ms/step - loss: -0.8992 - iou: 0.8208 - dice_coef: 0.8992 - precision: 0.9190 - recall: 0.8853 - specificity: 0.9992 - val_loss: -0.8656 - val_iou: 0.7658 - val_dice_coef: 0.8660 - val_precision: 0.8878 - val_recall: 0.8504 - val_specificity: 0.9989\n",
      "\n",
      "Epoch 00079: val_dice_coef did not improve from 0.87057\n",
      "Epoch 80/100\n",
      "85/85 [==============================] - 81s 946ms/step - loss: -0.8995 - iou: 0.8206 - dice_coef: 0.8995 - precision: 0.9180 - recall: 0.8862 - specificity: 0.9992 - val_loss: -0.8662 - val_iou: 0.7674 - val_dice_coef: 0.8667 - val_precision: 0.9091 - val_recall: 0.8315 - val_specificity: 0.9991\n",
      "\n",
      "Epoch 00080: val_dice_coef did not improve from 0.87057\n",
      "Epoch 81/100\n",
      "85/85 [==============================] - 81s 945ms/step - loss: -0.8997 - iou: 0.8213 - dice_coef: 0.8997 - precision: 0.9182 - recall: 0.8859 - specificity: 0.9992 - val_loss: -0.8545 - val_iou: 0.7480 - val_dice_coef: 0.8522 - val_precision: 0.8634 - val_recall: 0.8491 - val_specificity: 0.9987\n",
      "\n",
      "Epoch 00081: val_dice_coef did not improve from 0.87057\n",
      "Epoch 82/100\n",
      "85/85 [==============================] - 79s 920ms/step - loss: -0.9008 - iou: 0.8227 - dice_coef: 0.9008 - precision: 0.9185 - recall: 0.8886 - specificity: 0.9992 - val_loss: -0.8543 - val_iou: 0.7484 - val_dice_coef: 0.8545 - val_precision: 0.8963 - val_recall: 0.8196 - val_specificity: 0.9991\n",
      "\n",
      "Epoch 00082: val_dice_coef did not improve from 0.87057\n",
      "Epoch 83/100\n",
      "85/85 [==============================] - 80s 927ms/step - loss: -0.8995 - iou: 0.8211 - dice_coef: 0.8995 - precision: 0.9179 - recall: 0.8857 - specificity: 0.9992 - val_loss: -0.8607 - val_iou: 0.7589 - val_dice_coef: 0.8611 - val_precision: 0.9043 - val_recall: 0.8258 - val_specificity: 0.9991\n",
      "\n",
      "Epoch 00083: val_dice_coef did not improve from 0.87057\n",
      "Epoch 84/100\n",
      "85/85 [==============================] - 79s 920ms/step - loss: -0.9015 - iou: 0.8231 - dice_coef: 0.9014 - precision: 0.9224 - recall: 0.8857 - specificity: 0.9992 - val_loss: -0.8605 - val_iou: 0.7549 - val_dice_coef: 0.8574 - val_precision: 0.8840 - val_recall: 0.8368 - val_specificity: 0.9989\n",
      "\n",
      "Epoch 00084: val_dice_coef did not improve from 0.87057\n",
      "Epoch 85/100\n",
      "85/85 [==============================] - 80s 938ms/step - loss: -0.8973 - iou: 0.8184 - dice_coef: 0.8973 - precision: 0.9162 - recall: 0.8827 - specificity: 0.9992 - val_loss: -0.8734 - val_iou: 0.7803 - val_dice_coef: 0.8750 - val_precision: 0.8800 - val_recall: 0.8748 - val_specificity: 0.9987\n",
      "\n",
      "Epoch 00085: val_dice_coef improved from 0.87057 to 0.87501, saving model to best_model.hdf5\n",
      "Epoch 86/100\n",
      "85/85 [==============================] - 79s 924ms/step - loss: -0.9031 - iou: 0.8268 - dice_coef: 0.9031 - precision: 0.9222 - recall: 0.8887 - specificity: 0.9992 - val_loss: -0.8683 - val_iou: 0.7688 - val_dice_coef: 0.8678 - val_precision: 0.8770 - val_recall: 0.8624 - val_specificity: 0.9988\n",
      "\n",
      "Epoch 00086: val_dice_coef did not improve from 0.87501\n",
      "Epoch 87/100\n",
      "85/85 [==============================] - 80s 928ms/step - loss: -0.9032 - iou: 0.8264 - dice_coef: 0.9032 - precision: 0.9207 - recall: 0.8906 - specificity: 0.9992 - val_loss: -0.8528 - val_iou: 0.7445 - val_dice_coef: 0.8515 - val_precision: 0.9162 - val_recall: 0.7993 - val_specificity: 0.9992\n",
      "\n",
      "Epoch 00087: val_dice_coef did not improve from 0.87501\n",
      "Epoch 88/100\n",
      "85/85 [==============================] - 80s 938ms/step - loss: -0.8769 - iou: 0.7874 - dice_coef: 0.8769 - precision: 0.8997 - recall: 0.8613 - specificity: 0.9991 - val_loss: -0.8577 - val_iou: 0.7548 - val_dice_coef: 0.8582 - val_precision: 0.9002 - val_recall: 0.8232 - val_specificity: 0.9991\n",
      "\n",
      "Epoch 00088: val_dice_coef did not improve from 0.87501\n",
      "Epoch 89/100\n",
      "85/85 [==============================] - 81s 946ms/step - loss: -0.8975 - iou: 0.8175 - dice_coef: 0.8974 - precision: 0.9161 - recall: 0.8828 - specificity: 0.9992 - val_loss: -0.8587 - val_iou: 0.7530 - val_dice_coef: 0.8549 - val_precision: 0.8814 - val_recall: 0.8333 - val_specificity: 0.9989\n",
      "\n",
      "Epoch 00089: val_dice_coef did not improve from 0.87501\n",
      "Epoch 90/100\n",
      "85/85 [==============================] - 79s 924ms/step - loss: -0.8959 - iou: 0.8170 - dice_coef: 0.8958 - precision: 0.9138 - recall: 0.8821 - specificity: 0.9992 - val_loss: -0.8747 - val_iou: 0.7787 - val_dice_coef: 0.8739 - val_precision: 0.8909 - val_recall: 0.8604 - val_specificity: 0.9989\n",
      "\n",
      "Epoch 00090: val_dice_coef did not improve from 0.87501\n",
      "Epoch 91/100\n",
      "85/85 [==============================] - 79s 926ms/step - loss: -0.9003 - iou: 0.8230 - dice_coef: 0.9003 - precision: 0.9199 - recall: 0.8866 - specificity: 0.9992 - val_loss: -0.8580 - val_iou: 0.7551 - val_dice_coef: 0.8588 - val_precision: 0.9108 - val_recall: 0.8149 - val_specificity: 0.9992\n",
      "\n",
      "Epoch 00091: val_dice_coef did not improve from 0.87501\n",
      "Epoch 92/100\n",
      "85/85 [==============================] - 79s 922ms/step - loss: -0.8987 - iou: 0.8201 - dice_coef: 0.8987 - precision: 0.9172 - recall: 0.8842 - specificity: 0.9992 - val_loss: -0.8650 - val_iou: 0.7648 - val_dice_coef: 0.8656 - val_precision: 0.8766 - val_recall: 0.8575 - val_specificity: 0.9988\n",
      "\n",
      "Epoch 00092: val_dice_coef did not improve from 0.87501\n",
      "Epoch 93/100\n",
      "85/85 [==============================] - 79s 926ms/step - loss: -0.8978 - iou: 0.8204 - dice_coef: 0.8978 - precision: 0.9181 - recall: 0.8826 - specificity: 0.9992 - val_loss: -0.8689 - val_iou: 0.7668 - val_dice_coef: 0.8649 - val_precision: 0.9098 - val_recall: 0.8273 - val_specificity: 0.9992\n",
      "\n",
      "Epoch 00093: val_dice_coef did not improve from 0.87501\n",
      "Epoch 94/100\n",
      "85/85 [==============================] - 80s 937ms/step - loss: -0.9049 - iou: 0.8294 - dice_coef: 0.9049 - precision: 0.9243 - recall: 0.8901 - specificity: 0.9993 - val_loss: -0.8424 - val_iou: 0.7295 - val_dice_coef: 0.8406 - val_precision: 0.9199 - val_recall: 0.7772 - val_specificity: 0.9993\n",
      "\n",
      "Epoch 00094: val_dice_coef did not improve from 0.87501\n",
      "Epoch 95/100\n",
      "85/85 [==============================] - 81s 940ms/step - loss: -0.9001 - iou: 0.8219 - dice_coef: 0.9001 - precision: 0.9197 - recall: 0.8851 - specificity: 0.9992 - val_loss: -0.8649 - val_iou: 0.7651 - val_dice_coef: 0.8641 - val_precision: 0.9089 - val_recall: 0.8283 - val_specificity: 0.9991\n",
      "\n",
      "Epoch 00095: val_dice_coef did not improve from 0.87501\n",
      "Epoch 96/100\n",
      "85/85 [==============================] - 80s 936ms/step - loss: -0.9065 - iou: 0.8325 - dice_coef: 0.9065 - precision: 0.9262 - recall: 0.8905 - specificity: 0.9993 - val_loss: -0.8664 - val_iou: 0.7699 - val_dice_coef: 0.8682 - val_precision: 0.8864 - val_recall: 0.8563 - val_specificity: 0.9988\n",
      "\n",
      "Epoch 00096: val_dice_coef did not improve from 0.87501\n",
      "Epoch 97/100\n",
      "85/85 [==============================] - 80s 935ms/step - loss: -0.9012 - iou: 0.8274 - dice_coef: 0.9012 - precision: 0.9203 - recall: 0.8860 - specificity: 0.9993 - val_loss: -0.8723 - val_iou: 0.7794 - val_dice_coef: 0.8746 - val_precision: 0.8826 - val_recall: 0.8695 - val_specificity: 0.9989\n",
      "\n",
      "Epoch 00097: val_dice_coef did not improve from 0.87501\n",
      "Epoch 98/100\n",
      "85/85 [==============================] - 81s 940ms/step - loss: -0.9061 - iou: 0.8319 - dice_coef: 0.9061 - precision: 0.9229 - recall: 0.8932 - specificity: 0.9993 - val_loss: -0.8655 - val_iou: 0.7697 - val_dice_coef: 0.8673 - val_precision: 0.8842 - val_recall: 0.8547 - val_specificity: 0.9989\n",
      "\n",
      "Epoch 00098: val_dice_coef did not improve from 0.87501\n",
      "Epoch 99/100\n",
      "85/85 [==============================] - 79s 917ms/step - loss: -0.9073 - iou: 0.8326 - dice_coef: 0.9073 - precision: 0.9272 - recall: 0.8915 - specificity: 0.9993 - val_loss: -0.8586 - val_iou: 0.7524 - val_dice_coef: 0.8574 - val_precision: 0.9048 - val_recall: 0.8182 - val_specificity: 0.9990\n",
      "\n",
      "Epoch 00099: val_dice_coef did not improve from 0.87501\n",
      "Epoch 100/100\n",
      "85/85 [==============================] - 79s 922ms/step - loss: -0.8866 - iou: 0.8029 - dice_coef: 0.8867 - precision: 0.9044 - recall: 0.8750 - specificity: 0.9990 - val_loss: -0.8543 - val_iou: 0.7480 - val_dice_coef: 0.8541 - val_precision: 0.8935 - val_recall: 0.8217 - val_specificity: 0.9989\n",
      "\n",
      "Epoch 00100: val_dice_coef did not improve from 0.87501\n"
     ]
    }
   ],
   "source": [
    "im_height, im_width = 256,256\n",
    "train_generator_args = dict(rotation_range=0.2,\n",
    "                            width_shift_range=0.05,\n",
    "                            height_shift_range=0.05,\n",
    "                            shear_range=0.05,\n",
    "                            zoom_range=0.05,\n",
    "                            horizontal_flip=True,\n",
    "                            fill_mode='nearest')\n",
    "train_gen = train_generator(df_train, BATCH_SIZE,\n",
    "                                train_generator_args,\n",
    "                                target_size=(im_height, im_width))\n",
    "    \n",
    "test_gener = train_generator(df_val, BATCH_SIZE,\n",
    "                                dict(),\n",
    "                                target_size=(im_height, im_width))\n",
    "    \n",
    "# model = Attention_UNet(input_shape=(im_height, im_width, 3))\n",
    "#callbacks\n",
    "earlystopping = EarlyStopping(monitor='val_dice_coef',\n",
    "                              mode='max', \n",
    "                              verbose=1, \n",
    "                              patience=20\n",
    "                             )\n",
    "# save the best model with lower validation loss\n",
    "\n",
    "reduce_lr = ReduceLROnPlateau(monitor='val_dice_coef',\n",
    "                              mode='max',\n",
    "                              verbose=1,\n",
    "                              patience=10,\n",
    "                              min_delta=0.0001,\n",
    "                              factor=0.2\n",
    "                             )\n",
    "\n",
    "\n",
    "decay_rate = learning_rate / EPOCHS\n",
    "opt = Adam(learning_rate=learning_rate, beta_1=0.9, beta_2=0.999, epsilon=None, decay=decay_rate, amsgrad=False)\n",
    "model.compile(optimizer=opt, loss=dice_coef_loss, metrics=[iou, dice_coef, precision,recall,specificity])\n",
    "\n",
    "callbacks = [ModelCheckpoint('best_model.hdf5',monitor='val_dice_coef', verbose=1, mode='max',save_best_only=True)]\n",
    "\n",
    "history = model.fit(train_gen,\n",
    "                    steps_per_epoch=len(df_train) / BATCH_SIZE, \n",
    "                    epochs=EPOCHS, \n",
    "                    callbacks=callbacks,\n",
    "                    validation_data = test_gener,\n",
    "                    validation_steps=len(df_val) / BATCH_SIZE)"
   ]
  },
  {
   "cell_type": "code",
   "execution_count": 37,
   "metadata": {
    "execution": {
     "iopub.execute_input": "2023-01-31T04:53:25.763415Z",
     "iopub.status.busy": "2023-01-31T04:53:25.763087Z",
     "iopub.status.idle": "2023-01-31T04:53:25.772539Z",
     "shell.execute_reply": "2023-01-31T04:53:25.771753Z",
     "shell.execute_reply.started": "2023-01-31T04:53:25.763379Z"
    }
   },
   "outputs": [],
   "source": [
    "import pandas as pd\n",
    "pd.DataFrame.from_dict(history.history).to_csv('history.csv',index=False)"
   ]
  },
  {
   "cell_type": "code",
   "execution_count": null,
   "metadata": {
    "execution": {
     "iopub.status.busy": "2023-01-30T01:50:30.550831Z",
     "iopub.status.idle": "2023-01-30T01:50:30.551578Z",
     "shell.execute_reply": "2023-01-30T01:50:30.551356Z",
     "shell.execute_reply.started": "2023-01-30T01:50:30.551325Z"
    },
    "executionInfo": {
     "elapsed": 809,
     "status": "ok",
     "timestamp": 1651849430048,
     "user": {
      "displayName": "Quang 9 Doan",
      "userId": "16992828409336388600"
     },
     "user_tz": -420
    },
    "id": "x4ExlYieMbnb",
    "outputId": "62d8c2df-f92c-4cb6-b25c-3e5afe802078"
   },
   "outputs": [],
   "source": [
    "a = history.history\n",
    "\n",
    "list_traindice = a['dice_coef']\n",
    "list_testdice = a['val_dice_coef']\n",
    "\n",
    "list_trainjaccard = a['iou']\n",
    "list_testjaccard = a['val_iou']\n",
    "\n",
    "list_trainloss = a['loss']\n",
    "list_testloss = a['val_loss']\n",
    "\n",
    "plt.figure(1)\n",
    "plt.plot(list_trainloss,'r-')\n",
    "plt.plot(list_testloss, 'b-')\n",
    "plt.xlabel('epoch')\n",
    "plt.ylabel('loss')\n",
    "plt.title('loss graph', fontsize = 15)\n",
    "\n",
    "plt.figure(2)\n",
    "plt.plot(list_traindice, 'r-')\n",
    "plt.plot(list_testdice, 'b-')\n",
    "plt.xlabel('epoch')\n",
    "plt.ylabel('accuracy')\n",
    "plt.title('accuracy graph', fontsize = 15)\n",
    "\n",
    "plt.figure(3)\n",
    "plt.plot(list_trainjaccard,'r-')\n",
    "plt.plot(list_testjaccard, 'b-')\n",
    "plt.xlabel('epoch')\n",
    "plt.ylabel('IoU')\n",
    "plt.title('IoU graph', fontsize = 15)\n",
    "\n",
    "plt.show()"
   ]
  },
  {
   "cell_type": "code",
   "execution_count": 13,
   "metadata": {
    "execution": {
     "iopub.execute_input": "2023-01-31T04:52:04.491700Z",
     "iopub.status.busy": "2023-01-31T04:52:04.491423Z",
     "iopub.status.idle": "2023-01-31T04:52:05.379389Z",
     "shell.execute_reply": "2023-01-31T04:52:05.378554Z",
     "shell.execute_reply.started": "2023-01-31T04:52:04.491654Z"
    },
    "executionInfo": {
     "elapsed": 17528,
     "status": "ok",
     "timestamp": 1651849448706,
     "user": {
      "displayName": "Quang 9 Doan",
      "userId": "16992828409336388600"
     },
     "user_tz": -420
    },
    "id": "CZ9OPB63Mbnc"
   },
   "outputs": [],
   "source": [
    "model = load_model('../att_unet/2/best_model.hdf5', custom_objects={'dice_coef_loss': dice_coef_loss, 'iou': iou, 'dice_coef': dice_coef, 'precision': precision,'recall':recall, 'specificity':specificity })"
   ]
  },
  {
   "cell_type": "code",
   "execution_count": 35,
   "metadata": {
    "execution": {
     "iopub.execute_input": "2023-01-31T04:52:05.382920Z",
     "iopub.status.busy": "2023-01-31T04:52:05.382688Z",
     "iopub.status.idle": "2023-01-31T04:53:25.743639Z",
     "shell.execute_reply": "2023-01-31T04:53:25.742875Z",
     "shell.execute_reply.started": "2023-01-31T04:52:05.382892Z"
    },
    "id": "9WgFWSxQMbnc"
   },
   "outputs": [
    {
     "name": "stdout",
     "output_type": "stream",
     "text": [
      "85/85 [==============================] - 62s 713ms/step - loss: -0.9065 - iou: 0.8313 - dice_coef: 0.9064 - precision: 0.9134 - recall: 0.9036 - specificity: 0.9992\n",
      "Found 590 validated image filenames.\n",
      "Found 590 validated image filenames.\n",
      "18/18 [==============================] - 7s 365ms/step - loss: -0.8858 - iou: 0.7919 - dice_coef: 0.8826 - precision: 0.8951 - recall: 0.8737 - specificity: 0.9988\n",
      "Found 590 validated image filenames.\n",
      "Found 590 validated image filenames.\n",
      "18/18 [==============================] - 4s 204ms/step - loss: -0.8710 - iou: 0.7728 - dice_coef: 0.8705 - precision: 0.8810 - recall: 0.8648 - specificity: 0.9988\n"
     ]
    }
   ],
   "source": [
    "test_gen = train_generator(df_test, BATCH_SIZE,\n",
    "                                dict(),\n",
    "                                target_size=(im_height, im_width))\n",
    "\n",
    "val_gen = train_generator(df_val, BATCH_SIZE,\n",
    "                                dict(),\n",
    "                                target_size=(im_height, im_width))\n",
    "\n",
    "results_train = model.evaluate(train_gen, steps=len(df_train) / BATCH_SIZE)\n",
    "results_test = model.evaluate(test_gen, steps=len(df_test) / BATCH_SIZE)\n",
    "results_val = model.evaluate(val_gen, steps=len(df_val) / BATCH_SIZE)\n",
    "\n",
    "result = pd.DataFrame({  'train':({'loss':results_train[0],'iou':results_train[1],'dice_coef':results_train[2],'precision':results_train[3],'recall':results_train[4],'specificity':results_train[5]}),\n",
    "                         'test':({'loss':results_test[0],'iou':results_test[1],'dice_coef':results_test[2],'precision':results_test[3],'recall':results_test[4],'specificity':results_test[5]}),\n",
    "                         'val':({'loss':results_val[0],'iou':results_val[1],'dice_coef':results_val[2],'precision':results_val[3],'recall':results_val[4],'specificity':results_val[5]}) })\n",
    "\n",
    "pd.DataFrame.from_dict(result).to_csv('result.csv',index=False)"
   ]
  },
  {
   "cell_type": "code",
   "execution_count": 36,
   "metadata": {
    "execution": {
     "iopub.execute_input": "2023-01-31T04:53:25.745273Z",
     "iopub.status.busy": "2023-01-31T04:53:25.744919Z",
     "iopub.status.idle": "2023-01-31T04:53:25.761542Z",
     "shell.execute_reply": "2023-01-31T04:53:25.760795Z",
     "shell.execute_reply.started": "2023-01-31T04:53:25.745228Z"
    }
   },
   "outputs": [
    {
     "data": {
      "text/html": [
       "<div>\n",
       "<style scoped>\n",
       "    .dataframe tbody tr th:only-of-type {\n",
       "        vertical-align: middle;\n",
       "    }\n",
       "\n",
       "    .dataframe tbody tr th {\n",
       "        vertical-align: top;\n",
       "    }\n",
       "\n",
       "    .dataframe thead th {\n",
       "        text-align: right;\n",
       "    }\n",
       "</style>\n",
       "<table border=\"1\" class=\"dataframe\">\n",
       "  <thead>\n",
       "    <tr style=\"text-align: right;\">\n",
       "      <th></th>\n",
       "      <th>train</th>\n",
       "      <th>test</th>\n",
       "      <th>val</th>\n",
       "    </tr>\n",
       "  </thead>\n",
       "  <tbody>\n",
       "    <tr>\n",
       "      <th>loss</th>\n",
       "      <td>-0.906478</td>\n",
       "      <td>-0.885793</td>\n",
       "      <td>-0.870997</td>\n",
       "    </tr>\n",
       "    <tr>\n",
       "      <th>iou</th>\n",
       "      <td>0.831287</td>\n",
       "      <td>0.791949</td>\n",
       "      <td>0.772816</td>\n",
       "    </tr>\n",
       "    <tr>\n",
       "      <th>dice_coef</th>\n",
       "      <td>0.906411</td>\n",
       "      <td>0.882562</td>\n",
       "      <td>0.870486</td>\n",
       "    </tr>\n",
       "    <tr>\n",
       "      <th>precision</th>\n",
       "      <td>0.913384</td>\n",
       "      <td>0.895069</td>\n",
       "      <td>0.881036</td>\n",
       "    </tr>\n",
       "    <tr>\n",
       "      <th>recall</th>\n",
       "      <td>0.903592</td>\n",
       "      <td>0.873721</td>\n",
       "      <td>0.864781</td>\n",
       "    </tr>\n",
       "    <tr>\n",
       "      <th>specificity</th>\n",
       "      <td>0.999178</td>\n",
       "      <td>0.998849</td>\n",
       "      <td>0.998797</td>\n",
       "    </tr>\n",
       "  </tbody>\n",
       "</table>\n",
       "</div>"
      ],
      "text/plain": [
       "                train      test       val\n",
       "loss        -0.906478 -0.885793 -0.870997\n",
       "iou          0.831287  0.791949  0.772816\n",
       "dice_coef    0.906411  0.882562  0.870486\n",
       "precision    0.913384  0.895069  0.881036\n",
       "recall       0.903592  0.873721  0.864781\n",
       "specificity  0.999178  0.998849  0.998797"
      ]
     },
     "execution_count": 36,
     "metadata": {},
     "output_type": "execute_result"
    }
   ],
   "source": [
    "result"
   ]
  },
  {
   "cell_type": "code",
   "execution_count": 23,
   "metadata": {
    "execution": {
     "iopub.execute_input": "2023-01-30T04:29:24.796160Z",
     "iopub.status.busy": "2023-01-30T04:29:24.795816Z",
     "iopub.status.idle": "2023-01-30T04:29:48.297909Z",
     "shell.execute_reply": "2023-01-30T04:29:48.297199Z",
     "shell.execute_reply.started": "2023-01-30T04:29:24.796118Z"
    },
    "executionInfo": {
     "elapsed": 1695,
     "status": "ok",
     "timestamp": 1651849878545,
     "user": {
      "displayName": "Quang 9 Doan",
      "userId": "16992828409336388600"
     },
     "user_tz": -420
    },
    "id": "yVZCEgViMbnc",
    "outputId": "621f27b0-5fa8-4bb3-c120-1cf4da936f59"
   },
   "outputs": [
    {
     "name": "stdout",
     "output_type": "stream",
     "text": [
      "1/1 [==============================] - 0s 427ms/step\n"
     ]
    },
    {
     "data": {
      "image/png": "[encoded data removed]",
      "text/plain": [
       "<Figure size 864x864 with 3 Axes>"
      ]
     },
     "metadata": {
      "needs_background": "light"
     },
     "output_type": "display_data"
    }
   ],
   "source": [
    "for i in range(1,2):\n",
    "    index=np.random.randint(1,len(df_test.index))\n",
    "    img = cv2.imread(df['filename'].iloc[index])\n",
    "    img = cv2.resize(img ,(im_height, im_width))\n",
    "    img = img / 255\n",
    "    img = img[np.newaxis, :, :, :]\n",
    "    pred=model.predict(img)\n",
    "\n",
    "    plt.figure(figsize=(12,12))\n",
    "    plt.subplot(i,3,1)\n",
    "    plt.imshow(np.squeeze(img))\n",
    "    plt.title('Brain Image')\n",
    "    plt.subplot(i,3,2)\n",
    "    plt.imshow(np.squeeze(cv2.imread(df['mask'].iloc[index])))\n",
    "    plt.title('Ground True')\n",
    "    plt.subplot(i,3,3)\n",
    "    plt.imshow(np.squeeze(pred) > .5)\n",
    "    plt.title('Prediction')\n",
    "\n",
    "\n",
    "# plt.show()\n",
    "plt.savefig('image.png')"
   ]
  },
  {
   "cell_type": "code",
   "execution_count": null,
   "metadata": {},
   "outputs": [],
   "source": []
  },
  {
   "cell_type": "code",
   "execution_count": null,
   "metadata": {
    "execution": {
     "iopub.status.busy": "2023-01-30T01:50:30.560458Z",
     "iopub.status.idle": "2023-01-30T01:50:30.561285Z",
     "shell.execute_reply": "2023-01-30T01:50:30.561027Z",
     "shell.execute_reply.started": "2023-01-30T01:50:30.560996Z"
    }
   },
   "outputs": [],
   "source": [
    "def diagnosis(mask_path):\n",
    "    value = np.max(cv2.imread(mask_path))\n",
    "    return '1' if value > 0 else '0'\n",
    "df = pd.DataFrame({\"image_path\": train_files,\n",
    "                   \"mask_path\": mask_files,\n",
    "                  \"diagnosis\":[diagnosis(x) for x in mask_files]})\n",
    "df.head()"
   ]
  },
  {
   "cell_type": "code",
   "execution_count": null,
   "metadata": {
    "execution": {
     "iopub.status.busy": "2023-01-30T01:50:30.562529Z",
     "iopub.status.idle": "2023-01-30T01:50:30.563320Z",
     "shell.execute_reply": "2023-01-30T01:50:30.563084Z",
     "shell.execute_reply.started": "2023-01-30T01:50:30.563057Z"
    }
   },
   "outputs": [],
   "source": [
    "ax = df['diagnosis'].value_counts().plot(kind='bar', stacked=True, figsize=(10,6), color=['blue', 'red'])\n",
    "ax.set_title('Data Distribution')\n",
    "ax.set_ylabel('Total Images', fontsize=15)\n",
    "ax.set_xticklabels(['No Tumor', 'Tumor'], fontsize=12, rotation=0)\n",
    "for i, rows in enumerate(df['diagnosis'].value_counts().values):\n",
    "    ax.annotate(int(rows), xy=(i, rows+12), ha='center', fontweight='bold', fontsize=15)"
   ]
  },
  {
   "cell_type": "code",
   "execution_count": null,
   "metadata": {
    "execution": {
     "iopub.status.busy": "2023-01-30T01:50:30.564422Z",
     "iopub.status.idle": "2023-01-30T01:50:30.565163Z",
     "shell.execute_reply": "2023-01-30T01:50:30.564927Z",
     "shell.execute_reply.started": "2023-01-30T01:50:30.564903Z"
    }
   },
   "outputs": [],
   "source": [
    "df_train, df_test = train_test_split(df, test_size=0.15)\n",
    "df_train, df_val = train_test_split(df_train, test_size=0.1765)"
   ]
  },
  {
   "cell_type": "code",
   "execution_count": null,
   "metadata": {
    "execution": {
     "iopub.status.busy": "2023-01-30T01:50:30.566780Z",
     "iopub.status.idle": "2023-01-30T01:50:30.567252Z",
     "shell.execute_reply": "2023-01-30T01:50:30.567014Z",
     "shell.execute_reply.started": "2023-01-30T01:50:30.566990Z"
    }
   },
   "outputs": [],
   "source": [
    "ax = df_train['diagnosis'].value_counts().plot(kind='bar', stacked=True, figsize=(10,6), color=['blue', 'red'])\n",
    "ax.set_title('Data Distribution')\n",
    "ax.set_ylabel('Total Images', fontsize=15)\n",
    "ax.set_xticklabels(['No Tumor', 'Tumor'], fontsize=12, rotation=0)\n",
    "for i, rows in enumerate(df_train['diagnosis'].value_counts().values):\n",
    "    ax.annotate(int(rows), xy=(i, rows+12), ha='center', fontweight='bold', fontsize=15)"
   ]
  },
  {
   "cell_type": "code",
   "execution_count": null,
   "metadata": {
    "execution": {
     "iopub.status.busy": "2023-01-30T01:50:30.568691Z",
     "iopub.status.idle": "2023-01-30T01:50:30.569086Z",
     "shell.execute_reply": "2023-01-30T01:50:30.568894Z",
     "shell.execute_reply.started": "2023-01-30T01:50:30.568872Z"
    }
   },
   "outputs": [],
   "source": [
    "ax = df_val['diagnosis'].value_counts().plot(kind='bar', stacked=True, figsize=(10,6), color=['blue', 'red'])\n",
    "ax.set_title('Data Distribution')\n",
    "ax.set_ylabel('Total Images', fontsize=15)\n",
    "ax.set_xticklabels(['No Tumor', 'Tumor'], fontsize=12, rotation=0)\n",
    "for i, rows in enumerate(df_val['diagnosis'].value_counts().values):\n",
    "    ax.annotate(int(rows), xy=(i, rows+12), ha='center', fontweight='bold', fontsize=15)"
   ]
  },
  {
   "cell_type": "code",
   "execution_count": null,
   "metadata": {
    "execution": {
     "iopub.status.busy": "2023-01-30T01:50:30.570463Z",
     "iopub.status.idle": "2023-01-30T01:50:30.570860Z",
     "shell.execute_reply": "2023-01-30T01:50:30.570667Z",
     "shell.execute_reply.started": "2023-01-30T01:50:30.570646Z"
    }
   },
   "outputs": [],
   "source": [
    "ax = df_test['diagnosis'].value_counts().plot(kind='bar', stacked=True, figsize=(10,6), color=['blue', 'red'])\n",
    "ax.set_title('Data Distribution')\n",
    "ax.set_ylabel('Total Images', fontsize=15)\n",
    "ax.set_xticklabels(['No Tumor', 'Tumor'], fontsize=12, rotation=0)\n",
    "for i, rows in enumerate(df_test['diagnosis'].value_counts().values):\n",
    "    ax.annotate(int(rows), xy=(i, rows+12), ha='center', fontweight='bold', fontsize=15)"
   ]
  }
 ],
 "metadata": {
  "kernelspec": {
   "display_name": "Python 3 (ipykernel)",
   "language": "python",
   "name": "python3"
  },
  "language_info": {
   "codemirror_mode": {
    "name": "ipython",
    "version": 3
   },
   "file_extension": ".py",
   "mimetype": "text/x-python",
   "name": "python",
   "nbconvert_exporter": "python",
   "pygments_lexer": "ipython3",
   "version": "3.10.5"
  }
 },
 "nbformat": 4,
 "nbformat_minor": 4
}
